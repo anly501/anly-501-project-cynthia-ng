{
 "cells": [
  {
   "cell_type": "code",
   "execution_count": null,
   "metadata": {},
   "outputs": [],
   "source": [
    "# Import libraries\n",
    "import os\n",
    "from sklearn.feature_extraction.text import CountVectorizer\n",
    "import nltk\n",
    "from nltk.corpus import stopwords\n",
    "from nltk.tokenize import word_tokenize\n",
    "import seaborn as sns\n",
    "import matplotlib.pyplot as plt\n",
    "import re\n",
    "\n",
    "# Open file and save as corpus\n",
    "full_path = os.path.realpath(\"cleaning_homedepot_py.ipynb\")\n",
    "path, filename = os.path.split(full_path)\n",
    "os.chdir(path)\n",
    "os.chdir('../data')\n",
    "with open(\"HomeDepotTweets.txt\", \"r\", encoding='utf-8-sig') as f:\n",
    "    string = f.read()"
   ]
  },
  {
   "cell_type": "code",
   "execution_count": null,
   "metadata": {},
   "outputs": [],
   "source": [
    "# Lower tweets\n",
    "temp = string.lower()\n",
    "\n",
    "# Remove hashtags and mentions\n",
    "temp = re.sub(\"@[A-Za-z0-9_]+\",\"\", temp)\n",
    "temp = re.sub(\"#[A-Za-z0-9_]+\",\"\", temp)\n",
    "\n",
    "# Remove links\n",
    "temp = re.sub(r\"http\\S+\", \"\", temp)\n",
    "temp = re.sub(r\"www.\\S+\", \"\", temp)\n",
    "\n",
    "# Remove punctuation\n",
    "temp = re.sub('[()!?]', ' ', temp)\n",
    "temp = re.sub('\\[.*?\\]',' ', temp)\n",
    "\n",
    "# Remove non-alpha numbers\n",
    "temp = re.sub(\"[^a-z]\",\" \", temp)\n",
    "\n",
    "# Tokenize tweets\n",
    "temp = temp.split()"
   ]
  },
  {
   "cell_type": "code",
   "execution_count": null,
   "metadata": {},
   "outputs": [],
   "source": [
    "## STOP WORDS\n",
    "\n",
    "# Set stopwords\n",
    "nltk.download('stopwords')\n",
    "stop_words = set(stopwords.words('english'))\n",
    "new_stopwords = [\"false\", \"na\", \"true\", \"href\", \"rt\", \"twitter\", \"rel\", \"nofollow\", \"rr\", \"x\"] # add tweets-specific stopwords\n",
    "stop_words = nltk.corpus.stopwords.words('english') \n",
    "stop_words.extend(new_stopwords)\n",
    "print(stop_words)\n",
    "\n",
    "# Filter stopwords\n",
    "filtered_temp = [w for w in temp if not w.lower() in stop_words]\n",
    "  \n",
    "filtered_temp = []\n",
    "\n",
    "for w in temp:\n",
    "    if w not in stop_words:\n",
    "        filtered_temp.append(w)\n",
    "\n",
    "print(filtered_temp)"
   ]
  },
  {
   "cell_type": "code",
   "execution_count": null,
   "metadata": {},
   "outputs": [],
   "source": [
    "# ## Count vectorizer\n",
    "\n",
    "# Initialize count vectorizer\n",
    "vectorizer=CountVectorizer()   \n",
    "\n",
    "# Run count vectorizer\n",
    "Xs  =  vectorizer.fit_transform(filtered_temp)   \n",
    "print(type(Xs))"
   ]
  },
  {
   "cell_type": "code",
   "execution_count": null,
   "metadata": {},
   "outputs": [],
   "source": [
    "## EXPLORE THE OBJECT ATTRIBUTES \n",
    "\n",
    "# # View vocabulary dictionary\n",
    "print(\"vocabulary = \",vectorizer.vocabulary_)\n",
    "\n",
    "# col_names\n",
    "col_names=vectorizer.get_feature_names_out()"
   ]
  },
  {
   "cell_type": "code",
   "execution_count": null,
   "metadata": {},
   "outputs": [],
   "source": [
    "## SAVE\n",
    "full_path = os.path.realpath(\"cleaning_homedepot_py.ipynb\")\n",
    "path, filename = os.path.split(full_path)\n",
    "os.chdir(path)\n",
    "os.chdir('../data')\n",
    "with open('cleaned_home_depot_tweets.txt', 'w') as f:\n",
    "    f.write('\\n'.join(filtered_temp))"
   ]
  }
 ],
 "metadata": {
  "kernelspec": {
   "display_name": "Python 3.10.4 ('class')",
   "language": "python",
   "name": "python3"
  },
  "language_info": {
   "name": "python",
   "version": "3.10.4"
  },
  "orig_nbformat": 4,
  "vscode": {
   "interpreter": {
    "hash": "15746aa1dcf7a2a78475ba9215d3f8835d2f92e9634eaaa8b18bbade37f57527"
   }
  }
 },
 "nbformat": 4,
 "nbformat_minor": 2
}
