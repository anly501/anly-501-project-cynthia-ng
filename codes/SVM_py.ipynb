{
 "cells": [
  {
   "cell_type": "markdown",
   "id": "d6ef5cab",
   "metadata": {},
   "source": [
    "## SVM - Python"
   ]
  },
  {
   "cell_type": "markdown",
   "id": "04160e77",
   "metadata": {},
   "source": [
    "## Set up data"
   ]
  },
  {
   "cell_type": "code",
   "execution_count": 19,
   "id": "26e51404",
   "metadata": {},
   "outputs": [
    {
     "name": "stdout",
     "output_type": "stream",
     "text": [
      "    goldman\n",
      "0     sachs\n",
      "1   laporta\n",
      "2  tomorrow\n",
      "3   goldman\n",
      "4     sachs\n",
      "       email\n",
      "0       want\n",
      "1  something\n",
      "2       must\n",
      "3   approach\n",
      "4     slowly\n",
      "       koch\n",
      "0  industry\n",
      "1  american\n",
      "2   crystal\n",
      "3     sugar\n",
      "4      home\n"
     ]
    }
   ],
   "source": [
    "# LOAD LIBRARIES\n",
    "import os\n",
    "import pandas as pd\n",
    "import numpy as np\n",
    "from sklearn.model_selection import train_test_split\n",
    "from sklearn.feature_extraction.text import CountVectorizer\n",
    "from sklearn.metrics import accuracy_score\n",
    "import seaborn as sns \n",
    "import matplotlib.pyplot as plt\n",
    "\n",
    "gs = pd.read_csv('../data/cleaned_goldman_sachs_tweets.csv', on_bad_lines='skip')\n",
    "ap = pd.read_csv('../data/cleaned_apple_tweets.csv', on_bad_lines='skip')\n",
    "hd = pd.read_csv('../data/cleaned_home_depot_tweets.csv', on_bad_lines='skip')\n",
    "print(gs.head())\n",
    "print(ap.head())\n",
    "print(hd.head())\n",
    "\n",
    "# Convert csv to dataframe\n",
    "df1 = gs.copy()\n",
    "df2 = ap.copy()\n",
    "df3 = hd.copy()\n"
   ]
  },
  {
   "cell_type": "markdown",
   "id": "1d71e370",
   "metadata": {},
   "source": [
    "## Reorganize data for SVM"
   ]
  },
  {
   "cell_type": "code",
   "execution_count": 20,
   "id": "55713417",
   "metadata": {},
   "outputs": [
    {
     "name": "stdout",
     "output_type": "stream",
     "text": [
      "               tweets        company\n",
      "0             goldman  goldman_sachs\n",
      "1               sachs  goldman_sachs\n",
      "2             laporta  goldman_sachs\n",
      "3            tomorrow  goldman_sachs\n",
      "4             goldman  goldman_sachs\n",
      "...               ...            ...\n",
      "1977               uk  goldman_sachs\n",
      "1978              efc  goldman_sachs\n",
      "1979  catskillfishing  goldman_sachs\n",
      "1980  catskillfishing  goldman_sachs\n",
      "1981  catskillfishing  goldman_sachs\n",
      "\n",
      "[1982 rows x 2 columns]\n",
      "         tweets company\n",
      "0         email   apple\n",
      "1          want   apple\n",
      "2     something   apple\n",
      "3          must   apple\n",
      "4      approach   apple\n",
      "...         ...     ...\n",
      "1426      razak   apple\n",
      "1427       nata   apple\n",
      "1428      geoff   apple\n",
      "1429       nata   apple\n",
      "1430      chris   apple\n",
      "\n",
      "[1431 rows x 2 columns]\n",
      "            tweets     company\n",
      "0             koch  home_depot\n",
      "1         industry  home_depot\n",
      "2         american  home_depot\n",
      "3          crystal  home_depot\n",
      "4            sugar  home_depot\n",
      "...            ...         ...\n",
      "1923    lmleeminki  home_depot\n",
      "1924             w  home_depot\n",
      "1925   kurtishanni  home_depot\n",
      "1926   kurtishanni  home_depot\n",
      "1927  edealinfousa  home_depot\n",
      "\n",
      "[1928 rows x 2 columns]\n",
      "     tweets        company\n",
      "0   goldman  goldman_sachs\n",
      "1     sachs  goldman_sachs\n",
      "2   laporta  goldman_sachs\n",
      "3  tomorrow  goldman_sachs\n",
      "4   goldman  goldman_sachs\n"
     ]
    }
   ],
   "source": [
    "# Push column name of df1 into values\n",
    "df1.loc[-1] = df1.columns.values\n",
    "df1.sort_index(inplace=True)\n",
    "df1.reset_index(drop=True, inplace=True)\n",
    "df1.rename(columns={\"goldman\": \"tweets\"}, inplace=True) #rename column\n",
    "df1['company'] = 'goldman_sachs' #add new column with company label\n",
    "print(df1)\n",
    "\n",
    "# Do the same for df2\n",
    "df2.loc[-1] = df2.columns.values\n",
    "df2.sort_index(inplace=True)\n",
    "df2.reset_index(drop=True, inplace=True)\n",
    "df2.rename(columns={\"email\": \"tweets\"}, inplace=True) #rename column\n",
    "df2['company'] = 'apple' #add new column with company label\n",
    "print(df2)\n",
    "\n",
    "# Do the same for df3\n",
    "df3.loc[-1] = df3.columns.values\n",
    "df3.sort_index(inplace=True)\n",
    "df3.reset_index(drop=True, inplace=True)\n",
    "df3.rename(columns={\"koch\": \"tweets\"}, inplace=True) #rename column\n",
    "df3['company'] = 'home_depot' #add new column with company label\n",
    "print(df3)\n",
    "\n",
    "# Concat dataframes\n",
    "df = pd.concat([df1, df2, df3])\n",
    "print(df.head())"
   ]
  },
  {
   "cell_type": "code",
   "execution_count": 21,
   "id": "88026456",
   "metadata": {},
   "outputs": [
    {
     "name": "stdout",
     "output_type": "stream",
     "text": [
      "index = 0 : label = goldman_sachs\n",
      "index = 1 : label = apple\n",
      "index = 2 : label = home_depot\n",
      "(5341, 29) (5341,)\n",
      "DATA POINT-0: [0. 0. 0. 0. 0. 0. 0. 0. 0. 0.] y = 0    goldman_sachs\n",
      "0            apple\n",
      "0       home_depot\n",
      "Name: company, dtype: object\n"
     ]
    }
   ],
   "source": [
    "## SET X AND Y\n",
    "\n",
    "# y: CONVERT FROM STRING LABELS TO INTEGERS \n",
    "labels=[]; \n",
    "y=[]\n",
    "for label in df[\"company\"]:\n",
    "    if label not in labels:\n",
    "        labels.append(label)\n",
    "        print(\"index =\",len(labels)-1,\": label =\",label)\n",
    "    for i in range(0,len(labels)):\n",
    "        if(label==labels[i]):\n",
    "            y.append(i)\n",
    "y = np.array(y)\n",
    "y = df['company']\n",
    "\n",
    "# X\n",
    "corpus=df[\"tweets\"].to_list()\n",
    "# Initialize count vectorizer\n",
    "\n",
    "# Ignore terms that appear in less than 1% of the documents\n",
    "vectorizer=CountVectorizer(min_df=0.01)   \n",
    "\n",
    "# Run count vectorizer on corpus \n",
    "Xs  =  vectorizer.fit_transform(corpus)   \n",
    "X=np.array(Xs.todense())\n",
    "\n",
    "# Convert to one-hot vectors\n",
    "maxs=np.max(X,axis=0)\n",
    "X=np.ceil(X/maxs)\n",
    "\n",
    "# Double check\n",
    "print(X.shape,y.shape)\n",
    "print(\"DATA POINT-0:\",X[0,0:10],\"y =\",y[0])\n"
   ]
  },
  {
   "cell_type": "code",
   "execution_count": 22,
   "id": "5051af2e",
   "metadata": {},
   "outputs": [
    {
     "name": "stdout",
     "output_type": "stream",
     "text": [
      "(4272, 29)\n",
      "(4272,)\n",
      "(1069, 29)\n",
      "(1069,)\n"
     ]
    }
   ],
   "source": [
    "# Partion data\n",
    "X_train, X_test, y_train, y_test = train_test_split(X, y, test_size = 0.2, random_state=4)\n",
    "\n",
    "# Check \n",
    "print(X_train.shape)\n",
    "print(y_train.shape)\n",
    "print(X_test.shape)\n",
    "print(y_test.shape)"
   ]
  },
  {
   "cell_type": "markdown",
   "id": "0b8c1fc7",
   "metadata": {},
   "source": [
    "## Support Vector Classifier"
   ]
  },
  {
   "cell_type": "code",
   "execution_count": 23,
   "id": "d914ee48",
   "metadata": {},
   "outputs": [
    {
     "data": {
      "text/html": [
       "<style>#sk-container-id-3 {color: black;background-color: white;}#sk-container-id-3 pre{padding: 0;}#sk-container-id-3 div.sk-toggleable {background-color: white;}#sk-container-id-3 label.sk-toggleable__label {cursor: pointer;display: block;width: 100%;margin-bottom: 0;padding: 0.3em;box-sizing: border-box;text-align: center;}#sk-container-id-3 label.sk-toggleable__label-arrow:before {content: \"▸\";float: left;margin-right: 0.25em;color: #696969;}#sk-container-id-3 label.sk-toggleable__label-arrow:hover:before {color: black;}#sk-container-id-3 div.sk-estimator:hover label.sk-toggleable__label-arrow:before {color: black;}#sk-container-id-3 div.sk-toggleable__content {max-height: 0;max-width: 0;overflow: hidden;text-align: left;background-color: #f0f8ff;}#sk-container-id-3 div.sk-toggleable__content pre {margin: 0.2em;color: black;border-radius: 0.25em;background-color: #f0f8ff;}#sk-container-id-3 input.sk-toggleable__control:checked~div.sk-toggleable__content {max-height: 200px;max-width: 100%;overflow: auto;}#sk-container-id-3 input.sk-toggleable__control:checked~label.sk-toggleable__label-arrow:before {content: \"▾\";}#sk-container-id-3 div.sk-estimator input.sk-toggleable__control:checked~label.sk-toggleable__label {background-color: #d4ebff;}#sk-container-id-3 div.sk-label input.sk-toggleable__control:checked~label.sk-toggleable__label {background-color: #d4ebff;}#sk-container-id-3 input.sk-hidden--visually {border: 0;clip: rect(1px 1px 1px 1px);clip: rect(1px, 1px, 1px, 1px);height: 1px;margin: -1px;overflow: hidden;padding: 0;position: absolute;width: 1px;}#sk-container-id-3 div.sk-estimator {font-family: monospace;background-color: #f0f8ff;border: 1px dotted black;border-radius: 0.25em;box-sizing: border-box;margin-bottom: 0.5em;}#sk-container-id-3 div.sk-estimator:hover {background-color: #d4ebff;}#sk-container-id-3 div.sk-parallel-item::after {content: \"\";width: 100%;border-bottom: 1px solid gray;flex-grow: 1;}#sk-container-id-3 div.sk-label:hover label.sk-toggleable__label {background-color: #d4ebff;}#sk-container-id-3 div.sk-serial::before {content: \"\";position: absolute;border-left: 1px solid gray;box-sizing: border-box;top: 0;bottom: 0;left: 50%;z-index: 0;}#sk-container-id-3 div.sk-serial {display: flex;flex-direction: column;align-items: center;background-color: white;padding-right: 0.2em;padding-left: 0.2em;position: relative;}#sk-container-id-3 div.sk-item {position: relative;z-index: 1;}#sk-container-id-3 div.sk-parallel {display: flex;align-items: stretch;justify-content: center;background-color: white;position: relative;}#sk-container-id-3 div.sk-item::before, #sk-container-id-3 div.sk-parallel-item::before {content: \"\";position: absolute;border-left: 1px solid gray;box-sizing: border-box;top: 0;bottom: 0;left: 50%;z-index: -1;}#sk-container-id-3 div.sk-parallel-item {display: flex;flex-direction: column;z-index: 1;position: relative;background-color: white;}#sk-container-id-3 div.sk-parallel-item:first-child::after {align-self: flex-end;width: 50%;}#sk-container-id-3 div.sk-parallel-item:last-child::after {align-self: flex-start;width: 50%;}#sk-container-id-3 div.sk-parallel-item:only-child::after {width: 0;}#sk-container-id-3 div.sk-dashed-wrapped {border: 1px dashed gray;margin: 0 0.4em 0.5em 0.4em;box-sizing: border-box;padding-bottom: 0.4em;background-color: white;}#sk-container-id-3 div.sk-label label {font-family: monospace;font-weight: bold;display: inline-block;line-height: 1.2em;}#sk-container-id-3 div.sk-label-container {text-align: center;}#sk-container-id-3 div.sk-container {/* jupyter's `normalize.less` sets `[hidden] { display: none; }` but bootstrap.min.css set `[hidden] { display: none !important; }` so we also need the `!important` here to be able to override the default hidden behavior on the sphinx rendered scikit-learn.org. See: https://github.com/scikit-learn/scikit-learn/issues/21755 */display: inline-block !important;position: relative;}#sk-container-id-3 div.sk-text-repr-fallback {display: none;}</style><div id=\"sk-container-id-3\" class=\"sk-top-container\"><div class=\"sk-text-repr-fallback\"><pre>SVC(C=500, kernel=&#x27;sigmoid&#x27;)</pre><b>In a Jupyter environment, please rerun this cell to show the HTML representation or trust the notebook. <br />On GitHub, the HTML representation is unable to render, please try loading this page with nbviewer.org.</b></div><div class=\"sk-container\" hidden><div class=\"sk-item\"><div class=\"sk-estimator sk-toggleable\"><input class=\"sk-toggleable__control sk-hidden--visually\" id=\"sk-estimator-id-3\" type=\"checkbox\" checked><label for=\"sk-estimator-id-3\" class=\"sk-toggleable__label sk-toggleable__label-arrow\">SVC</label><div class=\"sk-toggleable__content\"><pre>SVC(C=500, kernel=&#x27;sigmoid&#x27;)</pre></div></div></div></div></div>"
      ],
      "text/plain": [
       "SVC(C=500, kernel='sigmoid')"
      ]
     },
     "execution_count": 23,
     "metadata": {},
     "output_type": "execute_result"
    }
   ],
   "source": [
    "# Initialize model\n",
    "from sklearn.svm import SVC\n",
    "\n",
    "C=500\n",
    "mykernel = 'sigmoid'\n",
    "\n",
    "fit1 = SVC(C=C,kernel=mykernel)\n",
    "\n",
    "fit1"
   ]
  },
  {
   "cell_type": "code",
   "execution_count": 24,
   "id": "9a022949",
   "metadata": {},
   "outputs": [],
   "source": [
    "\n",
    "# Fit to training data\n",
    "fit1.fit(X_train, y_train) \n",
    "\n",
    "# Predict on X_train\n",
    "y_train_pred = fit1.predict(X_train) "
   ]
  },
  {
   "cell_type": "code",
   "execution_count": 25,
   "id": "0bf0b0ca",
   "metadata": {},
   "outputs": [
    {
     "name": "stdout",
     "output_type": "stream",
     "text": [
      "Training set\n",
      "Accuracy:  67.15823970037454\n",
      "Number of mislabeled points out of a total 4275 points:  1403\n",
      "Test set\n",
      "Accuracy:  64.26566884939196\n",
      "Number of mislabeled points out of a total 1069 points:  382\n"
     ]
    }
   ],
   "source": [
    "# TEST ACCURACY\n",
    "# Training set\n",
    "print(\"Training set\")\n",
    "print(\"Accuracy: \", accuracy_score(y_train, y_train_pred) * 100) #accuracy score\n",
    "print(\"Number of mislabeled points out of a total 4275 points: \", (y_train != y_train_pred).sum()) #mislabeled points\n",
    "\n",
    "# Test set\n",
    "y_test_pred = fit1.predict(X_test)\n",
    "print(\"Test set\")\n",
    "print(\"Accuracy: \", accuracy_score(y_test, y_test_pred)*100) #accuracy score\n",
    "print(\"Number of mislabeled points out of a total 1069 points: \", (y_test != y_test_pred).sum()) #mislabeled points"
   ]
  },
  {
   "cell_type": "markdown",
   "id": "d1fc8712",
   "metadata": {},
   "source": [
    "## Visualize data"
   ]
  },
  {
   "cell_type": "code",
   "execution_count": 26,
   "id": "5f18630a",
   "metadata": {},
   "outputs": [
    {
     "data": {
      "image/png": "[encoded data removed]",
      "text/plain": [
       "<Figure size 640x480 with 1 Axes>"
      ]
     },
     "metadata": {},
     "output_type": "display_data"
    }
   ],
   "source": [
    "model_accuracies = pd.DataFrame({'Set':['Training set','Test set'], 'Accuracy (%)': [accuracy_score(y_train, y_train_pred) * 100, accuracy_score(y_test, y_test_pred)*100]})\n",
    "sns.barplot(data=model_accuracies, x=\"Set\", y=\"Accuracy (%)\").set(title = 'Accuracy of model for training vs test sets' )\n",
    "\n",
    "# Save plot\n",
    "plt.savefig(\"../501-project-website/images/svm_\"+str(mykernel)+\"_tweets_accuracy.png\")"
   ]
  },
  {
   "cell_type": "markdown",
   "id": "1ae17468",
   "metadata": {},
   "source": [
    "## Confusion matrix"
   ]
  },
  {
   "cell_type": "code",
   "execution_count": 27,
   "id": "1102117c",
   "metadata": {},
   "outputs": [
    {
     "name": "stderr",
     "output_type": "stream",
     "text": [
      "/Users/cynthiang/opt/anaconda3/envs/class/lib/python3.10/site-packages/sklearn/utils/deprecation.py:87: FutureWarning: Function plot_confusion_matrix is deprecated; Function `plot_confusion_matrix` is deprecated in 1.0 and will be removed in 1.2. Use one of the class methods: ConfusionMatrixDisplay.from_predictions or ConfusionMatrixDisplay.from_estimator.\n",
      "  warnings.warn(msg, category=FutureWarning)\n"
     ]
    },
    {
     "data": {
      "image/png": "[encoded data removed]",
      "text/plain": [
       "<Figure size 640x480 with 2 Axes>"
      ]
     },
     "metadata": {},
     "output_type": "display_data"
    }
   ],
   "source": [
    "from sklearn.metrics import plot_confusion_matrix\n",
    "\n",
    "plot_confusion_matrix(fit1 , X_test ,  y_test ,  cmap=\"Blues\")\n",
    "\n",
    "# Plot confusion matrix\n",
    "plt.title(\"Confusion matrix for SVM\")\n",
    "\n",
    "# Save confusion matrix plot\n",
    "plt.savefig(\"../501-project-website/images/SVM_\"+str(mykernel)+\"_tweets_confusion_matrix.png\")"
   ]
  }
 ],
 "metadata": {
  "kernelspec": {
   "display_name": "Python 3.10.4 ('class')",
   "language": "python",
   "name": "python3"
  },
  "language_info": {
   "codemirror_mode": {
    "name": "ipython",
    "version": 3
   },
   "file_extension": ".py",
   "mimetype": "text/x-python",
   "name": "python",
   "nbconvert_exporter": "python",
   "pygments_lexer": "ipython3",
   "version": "3.10.4"
  },
  "vscode": {
   "interpreter": {
    "hash": "15746aa1dcf7a2a78475ba9215d3f8835d2f92e9634eaaa8b18bbade37f57527"
   }
  }
 },
 "nbformat": 4,
 "nbformat_minor": 5
}
