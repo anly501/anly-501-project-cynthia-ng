{
 "cells": [
  {
   "cell_type": "markdown",
   "id": "d6ef5cab",
   "metadata": {},
   "source": [
    "## Naive Bayes - Python"
   ]
  },
  {
   "cell_type": "markdown",
   "id": "04160e77",
   "metadata": {},
   "source": [
    "## Set up data"
   ]
  },
  {
   "cell_type": "code",
   "execution_count": 1,
   "id": "26e51404",
   "metadata": {},
   "outputs": [],
   "source": [
    "# LOAD LIBRARIES\n",
    "import os\n",
    "import pandas as pd\n",
    "import numpy as np\n",
    "from sklearn.naive_bayes import GaussianNB\n",
    "from sklearn.model_selection import train_test_split\n",
    "from sklearn.feature_extraction.text import CountVectorizer\n",
    "from sklearn.metrics import accuracy_score\n",
    "import seaborn as sns \n",
    "import matplotlib.pyplot as plt\n",
    "\n",
    "# Read csv files\n",
    "full_path = os.path.realpath(\"naive_bayes_py.ipynb\")\n",
    "path, filename = os.path.split(full_path)\n",
    "os.chdir(path)\n",
    "os.chdir('../data')\n",
    "\n",
    "gs = pd.read_fwf('cleaned_goldman_sachs_tweets.csv', sep=',')\n",
    "ap = pd.read_fwf('cleaned_apple_tweets.csv', sep=',')\n",
    "hd = pd.read_fwf('cleaned_home_depot_tweets.csv', sep=',')\n",
    "\n",
    "# Convert csv to dataframe\n",
    "df1 = pd.DataFrame(gs)\n",
    "df2 = pd.DataFrame(ap)\n",
    "df3 = pd.DataFrame(hd)\n"
   ]
  },
  {
   "cell_type": "markdown",
   "id": "1d71e370",
   "metadata": {},
   "source": [
    "## Reorganize data for Naive Bayes"
   ]
  },
  {
   "cell_type": "code",
   "execution_count": 2,
   "id": "55713417",
   "metadata": {},
   "outputs": [
    {
     "name": "stdout",
     "output_type": "stream",
     "text": [
      "         tweets        company\n",
      "0       goldman  goldman_sachs\n",
      "1         sachs  goldman_sachs\n",
      "2       laporta  goldman_sachs\n",
      "3      tomorrow  goldman_sachs\n",
      "4       goldman  goldman_sachs\n",
      "...         ...            ...\n",
      "1978        efc  goldman_sachs\n",
      "1979  catskillf  goldman_sachs\n",
      "1980  catskillf  goldman_sachs\n",
      "1981  catskillf  goldman_sachs\n",
      "1982  goldman,s  goldman_sachs\n",
      "\n",
      "[1983 rows x 2 columns]\n",
      "           tweets company\n",
      "0           email   apple\n",
      "1            want   apple\n",
      "2       something   apple\n",
      "3            must   apple\n",
      "4        approach   apple\n",
      "...           ...     ...\n",
      "1427         nata   apple\n",
      "1428        geoff   apple\n",
      "1429         nata   apple\n",
      "1430        chris   apple\n",
      "1431  email,want,   apple\n",
      "\n",
      "[1432 rows x 2 columns]\n",
      "         tweets     company\n",
      "0          koch  home_depot\n",
      "1      industry  home_depot\n",
      "2      american  home_depot\n",
      "3       crystal  home_depot\n",
      "4         sugar  home_depot\n",
      "...         ...         ...\n",
      "1924          w  home_depot\n",
      "1925  kurtishan  home_depot\n",
      "1926  kurtishan  home_depot\n",
      "1927  edealinfo  home_depot\n",
      "1928  koch,indu  home_depot\n",
      "\n",
      "[1929 rows x 2 columns]\n",
      "         tweets        company\n",
      "0       goldman  goldman_sachs\n",
      "1         sachs  goldman_sachs\n",
      "2       laporta  goldman_sachs\n",
      "3      tomorrow  goldman_sachs\n",
      "4       goldman  goldman_sachs\n",
      "...         ...            ...\n",
      "1924          w     home_depot\n",
      "1925  kurtishan     home_depot\n",
      "1926  kurtishan     home_depot\n",
      "1927  edealinfo     home_depot\n",
      "1928  koch,indu     home_depot\n",
      "\n",
      "[5344 rows x 2 columns]\n"
     ]
    }
   ],
   "source": [
    "# Push column name of df1 into values\n",
    "df1.loc[-1] = df1.columns.values\n",
    "df1.sort_index(inplace=True)\n",
    "df1.reset_index(drop=True, inplace=True)\n",
    "df1.rename(columns={\"goldman\": \"tweets\"}, inplace=True) #rename column\n",
    "df1['company'] = 'goldman_sachs' #add new column with company label\n",
    "print(df1)\n",
    "\n",
    "# Do the same for df2\n",
    "df2.loc[-1] = df2.columns.values\n",
    "df2.sort_index(inplace=True)\n",
    "df2.reset_index(drop=True, inplace=True)\n",
    "df2.rename(columns={\"email\": \"tweets\"}, inplace=True) #rename column\n",
    "df2['company'] = 'apple' #add new column with company label\n",
    "print(df2)\n",
    "\n",
    "# Do the same for df3\n",
    "df3.loc[-1] = df3.columns.values\n",
    "df3.sort_index(inplace=True)\n",
    "df3.reset_index(drop=True, inplace=True)\n",
    "df3.rename(columns={\"koch\": \"tweets\"}, inplace=True) #rename column\n",
    "df3['company'] = 'home_depot' #add new column with company label\n",
    "print(df3)\n",
    "\n",
    "# Concat dataframes\n",
    "df = pd.concat([df1, df2, df3])\n",
    "print(df)"
   ]
  },
  {
   "cell_type": "code",
   "execution_count": 3,
   "id": "88026456",
   "metadata": {},
   "outputs": [
    {
     "name": "stdout",
     "output_type": "stream",
     "text": [
      "index = 0 : label = goldman_sachs\n",
      "index = 1 : label = apple\n",
      "index = 2 : label = home_depot\n",
      "(5344, 29) (5344,)\n",
      "DATA POINT-0: [0. 0. 0. 0. 0. 0. 0. 0. 0. 0.] y = 0    goldman_sachs\n",
      "0            apple\n",
      "0       home_depot\n",
      "Name: company, dtype: object\n"
     ]
    }
   ],
   "source": [
    "## SET X AND Y\n",
    "\n",
    "# y: CONVERT FROM STRING LABELS TO INTEGERS \n",
    "labels=[]; \n",
    "y=[]\n",
    "for label in df[\"company\"]:\n",
    "    if label not in labels:\n",
    "        labels.append(label)\n",
    "        print(\"index =\",len(labels)-1,\": label =\",label)\n",
    "    for i in range(0,len(labels)):\n",
    "        if(label==labels[i]):\n",
    "            y.append(i)\n",
    "y = np.array(y)\n",
    "y = df['company']\n",
    "\n",
    "# X\n",
    "corpus=df[\"tweets\"].to_list()\n",
    "# Initialize count vectorizer\n",
    "\n",
    "# Ignore terms that appear in less than 1% of the documents\n",
    "vectorizer=CountVectorizer(min_df=0.01)   \n",
    "\n",
    "# Run count vectorizer on corpus \n",
    "Xs  =  vectorizer.fit_transform(corpus)   \n",
    "X=np.array(Xs.todense())\n",
    "\n",
    "# Convert to one-hot vectors\n",
    "maxs=np.max(X,axis=0)\n",
    "X=np.ceil(X/maxs)\n",
    "\n",
    "# Double check\n",
    "print(X.shape,y.shape)\n",
    "print(\"DATA POINT-0:\",X[0,0:10],\"y =\",y[0])\n"
   ]
  },
  {
   "cell_type": "code",
   "execution_count": 4,
   "id": "5051af2e",
   "metadata": {},
   "outputs": [
    {
     "name": "stdout",
     "output_type": "stream",
     "text": [
      "(4275, 29)\n",
      "(4275,)\n",
      "(1069, 29)\n",
      "(1069,)\n"
     ]
    }
   ],
   "source": [
    "# Partion data\n",
    "X_train, X_test, y_train, y_test = train_test_split(X, y, test_size = 0.2, random_state=4)\n",
    "\n",
    "# Check \n",
    "print(X_train.shape)\n",
    "print(y_train.shape)\n",
    "print(X_test.shape)\n",
    "print(y_test.shape)"
   ]
  },
  {
   "cell_type": "markdown",
   "id": "0b8c1fc7",
   "metadata": {},
   "source": [
    "## Naive Bayes Classifier"
   ]
  },
  {
   "cell_type": "code",
   "execution_count": 5,
   "id": "d914ee48",
   "metadata": {},
   "outputs": [],
   "source": [
    "# Initialize model\n",
    "fit1 = GaussianNB()\n",
    "\n",
    "# Fit to training data\n",
    "fit1.fit(X_train, y_train) \n",
    "\n",
    "# Predict on X_train\n",
    "y_train_pred = fit1.predict(X_train) "
   ]
  },
  {
   "cell_type": "code",
   "execution_count": 6,
   "id": "0bf0b0ca",
   "metadata": {},
   "outputs": [
    {
     "name": "stdout",
     "output_type": "stream",
     "text": [
      "Training set\n",
      "Accuracy:  66.47953216374269\n",
      "Number of mislabeled points out of a total 4275 points:  1433\n",
      "Test set\n",
      "Accuracy:  65.66884939195509\n",
      "Number of mislabeled points out of a total 1069 points:  367\n"
     ]
    }
   ],
   "source": [
    "# TEST ACCURACY\n",
    "# Training set\n",
    "print(\"Training set\")\n",
    "print(\"Accuracy: \", accuracy_score(y_train, y_train_pred) * 100) #accuracy score\n",
    "print(\"Number of mislabeled points out of a total 4275 points: \", (y_train != y_train_pred).sum()) #mislabeled points\n",
    "\n",
    "# Test set\n",
    "y_test_pred = fit1.predict(X_test)\n",
    "print(\"Test set\")\n",
    "print(\"Accuracy: \", accuracy_score(y_test, y_test_pred)*100) #accuracy score\n",
    "print(\"Number of mislabeled points out of a total 1069 points: \", (y_test != y_test_pred).sum()) #mislabeled points"
   ]
  },
  {
   "cell_type": "markdown",
   "id": "d1fc8712",
   "metadata": {},
   "source": [
    "## Visualize data"
   ]
  },
  {
   "cell_type": "code",
   "execution_count": 7,
   "id": "5f18630a",
   "metadata": {},
   "outputs": [
    {
     "data": {
      "image/png": "[encoded data removed]",
      "text/plain": [
       "<Figure size 640x480 with 1 Axes>"
      ]
     },
     "metadata": {},
     "output_type": "display_data"
    }
   ],
   "source": [
    "model_accuracies = pd.DataFrame({'Set':['Training set','Test set'], 'Accuracy (%)': [66.47, 65.67]})\n",
    "sns.barplot(data=model_accuracies, x=\"Set\", y=\"Accuracy (%)\").set(title = 'Accuracy of model for training vs test sets' )\n",
    "\n",
    "# Save plot\n",
    "full_path = os.path.realpath(\"naive_bayes_py.ipynb\")\n",
    "path, filename = os.path.split(full_path)\n",
    "os.chdir(path)\n",
    "os.chdir('../501-project-website/images')\n",
    "plt.savefig(\"naive_bayes_tweets_accuracy.png\")"
   ]
  },
  {
   "cell_type": "markdown",
   "id": "1ae17468",
   "metadata": {},
   "source": [
    "## Confusion matrix"
   ]
  },
  {
   "cell_type": "code",
   "execution_count": 8,
   "id": "1102117c",
   "metadata": {},
   "outputs": [
    {
     "name": "stderr",
     "output_type": "stream",
     "text": [
      "/Users/cynthiang/opt/anaconda3/envs/class/lib/python3.10/site-packages/sklearn/utils/deprecation.py:87: FutureWarning: Function plot_confusion_matrix is deprecated; Function `plot_confusion_matrix` is deprecated in 1.0 and will be removed in 1.2. Use one of the class methods: ConfusionMatrixDisplay.from_predictions or ConfusionMatrixDisplay.from_estimator.\n",
      "  warnings.warn(msg, category=FutureWarning)\n"
     ]
    },
    {
     "data": {
      "image/png": "[encoded data removed]",
      "text/plain": [
       "<Figure size 640x480 with 2 Axes>"
      ]
     },
     "metadata": {},
     "output_type": "display_data"
    }
   ],
   "source": [
    "from sklearn.metrics import plot_confusion_matrix\n",
    "\n",
    "plot_confusion_matrix(fit1 , X_test ,  y_test ,  cmap=\"Blues\")\n",
    "\n",
    "# Plot confusion matrix\n",
    "plt.title(\"Confusion matrix for Naive Bayes model\")\n",
    "\n",
    "# Save confusion matrix plot\n",
    "plt.savefig(\"naive_bayes_tweets_confusion_matrix.png\")"
   ]
  }
 ],
 "metadata": {
  "kernelspec": {
   "display_name": "Python 3.10.4 ('class')",
   "language": "python",
   "name": "python3"
  },
  "language_info": {
   "codemirror_mode": {
    "name": "ipython",
    "version": 3
   },
   "file_extension": ".py",
   "mimetype": "text/x-python",
   "name": "python",
   "nbconvert_exporter": "python",
   "pygments_lexer": "ipython3",
   "version": "3.10.4"
  },
  "vscode": {
   "interpreter": {
    "hash": "15746aa1dcf7a2a78475ba9215d3f8835d2f92e9634eaaa8b18bbade37f57527"
   }
  }
 },
 "nbformat": 4,
 "nbformat_minor": 5
}
