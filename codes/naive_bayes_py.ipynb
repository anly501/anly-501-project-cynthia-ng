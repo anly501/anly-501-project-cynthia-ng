{
 "cells": [
  {
   "cell_type": "code",
   "execution_count": 44,
   "id": "26e51404",
   "metadata": {},
   "outputs": [
    {
     "name": "stdout",
     "output_type": "stream",
     "text": [
      "          email    goldman      koch\n",
      "0          want      sachs  industry\n",
      "1     something    laporta  american\n",
      "2          must   tomorrow   crystal\n",
      "3      approach    goldman     sugar\n",
      "4        slowly      sachs      home\n",
      "...         ...        ...       ...\n",
      "1977        NaN        efc       NaN\n",
      "1978        NaN  catskillf       NaN\n",
      "1979        NaN  catskillf       NaN\n",
      "1980        NaN  catskillf       NaN\n",
      "1981        NaN  goldman,s       NaN\n",
      "\n",
      "[1982 rows x 3 columns]\n"
     ]
    }
   ],
   "source": [
    "# Load libraries\n",
    "import os\n",
    "import pandas as pd\n",
    "from sklearn.naive_bayes import GaussianNB\n",
    "from sklearn.model_selection import train_test_split\n",
    "import seaborn as sns \n",
    "import matplotlib.pyplot as plt\n",
    "\n",
    "# Read csv files\n",
    "full_path = os.path.realpath(\"cleaning_py.ipynb\")\n",
    "path, filename = os.path.split(full_path)\n",
    "os.chdir(path)\n",
    "os.chdir('../data')\n",
    "\n",
    "ap = pd.read_fwf('cleaned_apple_tweets.csv', sep=',')\n",
    "gs = pd.read_fwf('cleaned_goldman_sachs_tweets.csv', sep=',')\n",
    "hd = pd.read_fwf('cleaned_home_depot_tweets.csv', sep=',')\n",
    "\n",
    "# Convert csv to dataframe\n",
    "df1 = pd.DataFrame(ap)\n",
    "df2 = pd.DataFrame(gs)\n",
    "df3 = pd.DataFrame(hd)\n",
    "all_df = [df1, df2, df3]\n",
    "\n",
    "# Concact\n",
    "df_concat=pd.concat(all_df, axis=1)\n",
    "print(df_concat)"
   ]
  },
  {
   "cell_type": "code",
   "execution_count": 39,
   "id": "55713417",
   "metadata": {},
   "outputs": [
    {
     "name": "stdout",
     "output_type": "stream",
     "text": [
      "          email    goldman\n",
      "0          want        NaN\n",
      "1     something        NaN\n",
      "2          must        NaN\n",
      "3      approach        NaN\n",
      "4        slowly        NaN\n",
      "...         ...        ...\n",
      "3408        NaN        efc\n",
      "3409        NaN  catskillf\n",
      "3410        NaN  catskillf\n",
      "3411        NaN  catskillf\n",
      "3412        NaN  goldman,s\n",
      "\n",
      "[3413 rows x 2 columns]\n"
     ]
    }
   ],
   "source": [
    "print(df_merged)"
   ]
  },
  {
   "cell_type": "code",
   "execution_count": 16,
   "id": "c8be692c",
   "metadata": {},
   "outputs": [
    {
     "ename": "NameError",
     "evalue": "name 'df' is not defined",
     "output_type": "error",
     "traceback": [
      "\u001b[0;31m---------------------------------------------------------------------------\u001b[0m",
      "\u001b[0;31mNameError\u001b[0m                                 Traceback (most recent call last)",
      "\u001b[1;32m/Users/cynthiang/Sync/School/Georgetown/Class/501-Intro/portfolio/anly-501-project-cynthia-ng/codes/naive_bayes_py.ipynb Cell 3\u001b[0m in \u001b[0;36m<cell line: 2>\u001b[0;34m()\u001b[0m\n\u001b[1;32m      <a href='vscode-notebook-cell:/Users/cynthiang/Sync/School/Georgetown/Class/501-Intro/portfolio/anly-501-project-cynthia-ng/codes/naive_bayes_py.ipynb#W1sZmlsZQ%3D%3D?line=0'>1</a>\u001b[0m \u001b[39m## Naive bayes classifer\u001b[39;00m\n\u001b[0;32m----> <a href='vscode-notebook-cell:/Users/cynthiang/Sync/School/Georgetown/Class/501-Intro/portfolio/anly-501-project-cynthia-ng/codes/naive_bayes_py.ipynb#W1sZmlsZQ%3D%3D?line=1'>2</a>\u001b[0m train_data, test_data, train_labels, test_labels \u001b[39m=\u001b[39m train_test_split(df, test_size \u001b[39m=\u001b[39m \u001b[39m0.2\u001b[39m, random_state\u001b[39m=\u001b[39m\u001b[39m4\u001b[39m)\n",
      "\u001b[0;31mNameError\u001b[0m: name 'df' is not defined"
     ]
    }
   ],
   "source": [
    "## Naive bayes classifer\n",
    "train_data, test_data, train_labels, test_labels = train_test_split(df, test_size = 0.2, random_state=4)"
   ]
  }
 ],
 "metadata": {
  "kernelspec": {
   "display_name": "Python 3.10.4 ('class')",
   "language": "python",
   "name": "python3"
  },
  "language_info": {
   "codemirror_mode": {
    "name": "ipython",
    "version": 3
   },
   "file_extension": ".py",
   "mimetype": "text/x-python",
   "name": "python",
   "nbconvert_exporter": "python",
   "pygments_lexer": "ipython3",
   "version": "3.10.4"
  },
  "vscode": {
   "interpreter": {
    "hash": "15746aa1dcf7a2a78475ba9215d3f8835d2f92e9634eaaa8b18bbade37f57527"
   }
  }
 },
 "nbformat": 4,
 "nbformat_minor": 5
}
