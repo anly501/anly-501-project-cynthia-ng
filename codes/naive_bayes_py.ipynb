{
 "cells": [
  {
   "cell_type": "markdown",
   "id": "d6ef5cab",
   "metadata": {},
   "source": [
    "## Naive Bayes - Python"
   ]
  },
  {
   "cell_type": "markdown",
   "id": "04160e77",
   "metadata": {},
   "source": [
    "## Set up data"
   ]
  },
  {
   "cell_type": "code",
   "execution_count": 1,
   "id": "26e51404",
   "metadata": {},
   "outputs": [
    {
     "name": "stdout",
     "output_type": "stream",
     "text": [
      "    goldman\n",
      "0     sachs\n",
      "1   laporta\n",
      "2  tomorrow\n",
      "3   goldman\n",
      "4     sachs\n",
      "       email\n",
      "0       want\n",
      "1  something\n",
      "2       must\n",
      "3   approach\n",
      "4     slowly\n",
      "       koch\n",
      "0  industry\n",
      "1  american\n",
      "2   crystal\n",
      "3     sugar\n",
      "4      home\n"
     ]
    }
   ],
   "source": [
    "# LOAD LIBRARIES\n",
    "import os\n",
    "import pandas as pd\n",
    "import numpy as np\n",
    "from sklearn.naive_bayes import GaussianNB\n",
    "from sklearn.model_selection import train_test_split\n",
    "from sklearn.feature_extraction.text import CountVectorizer\n",
    "from sklearn.metrics import accuracy_score\n",
    "import seaborn as sns \n",
    "import matplotlib.pyplot as plt\n",
    "\n",
    "# Read csv files\n",
    "full_path = os.path.realpath(\"naive_bayes_py.ipynb\")\n",
    "path, filename = os.path.split(full_path)\n",
    "os.chdir(path)\n",
    "os.chdir('../data')\n",
    "\n",
    "gs = pd.read_csv('../data/cleaned_goldman_sachs_tweets.csv', on_bad_lines='skip')\n",
    "ap = pd.read_csv('../data/cleaned_apple_tweets.csv', on_bad_lines='skip')\n",
    "hd = pd.read_csv('../data/cleaned_home_depot_tweets.csv', on_bad_lines='skip')\n",
    "print(gs.head())\n",
    "print(ap.head())\n",
    "print(hd.head())\n",
    "\n",
    "# Convert csv to dataframe\n",
    "df1 = gs.copy()\n",
    "df2 = ap.copy()\n",
    "df3 = hd.copy()\n"
   ]
  },
  {
   "cell_type": "markdown",
   "id": "1d71e370",
   "metadata": {},
   "source": [
    "## Reorganize data for Naive Bayes"
   ]
  },
  {
   "cell_type": "code",
   "execution_count": 2,
   "id": "55713417",
   "metadata": {},
   "outputs": [
    {
     "name": "stdout",
     "output_type": "stream",
     "text": [
      "               tweets        company\n",
      "0             goldman  goldman_sachs\n",
      "1               sachs  goldman_sachs\n",
      "2             laporta  goldman_sachs\n",
      "3            tomorrow  goldman_sachs\n",
      "4             goldman  goldman_sachs\n",
      "...               ...            ...\n",
      "1977               uk  goldman_sachs\n",
      "1978              efc  goldman_sachs\n",
      "1979  catskillfishing  goldman_sachs\n",
      "1980  catskillfishing  goldman_sachs\n",
      "1981  catskillfishing  goldman_sachs\n",
      "\n",
      "[1982 rows x 2 columns]\n",
      "         tweets company\n",
      "0         email   apple\n",
      "1          want   apple\n",
      "2     something   apple\n",
      "3          must   apple\n",
      "4      approach   apple\n",
      "...         ...     ...\n",
      "1426      razak   apple\n",
      "1427       nata   apple\n",
      "1428      geoff   apple\n",
      "1429       nata   apple\n",
      "1430      chris   apple\n",
      "\n",
      "[1431 rows x 2 columns]\n",
      "            tweets     company\n",
      "0             koch  home_depot\n",
      "1         industry  home_depot\n",
      "2         american  home_depot\n",
      "3          crystal  home_depot\n",
      "4            sugar  home_depot\n",
      "...            ...         ...\n",
      "1923    lmleeminki  home_depot\n",
      "1924             w  home_depot\n",
      "1925   kurtishanni  home_depot\n",
      "1926   kurtishanni  home_depot\n",
      "1927  edealinfousa  home_depot\n",
      "\n",
      "[1928 rows x 2 columns]\n",
      "            tweets        company\n",
      "0          goldman  goldman_sachs\n",
      "1            sachs  goldman_sachs\n",
      "2          laporta  goldman_sachs\n",
      "3         tomorrow  goldman_sachs\n",
      "4          goldman  goldman_sachs\n",
      "...            ...            ...\n",
      "1923    lmleeminki     home_depot\n",
      "1924             w     home_depot\n",
      "1925   kurtishanni     home_depot\n",
      "1926   kurtishanni     home_depot\n",
      "1927  edealinfousa     home_depot\n",
      "\n",
      "[5341 rows x 2 columns]\n"
     ]
    }
   ],
   "source": [
    "# Push column name of df1 into values\n",
    "df1.loc[-1] = df1.columns.values\n",
    "df1.sort_index(inplace=True)\n",
    "df1.reset_index(drop=True, inplace=True)\n",
    "df1.rename(columns={\"goldman\": \"tweets\"}, inplace=True) #rename column\n",
    "df1['company'] = 'goldman_sachs' #add new column with company label\n",
    "print(df1)\n",
    "\n",
    "# Do the same for df2\n",
    "df2.loc[-1] = df2.columns.values\n",
    "df2.sort_index(inplace=True)\n",
    "df2.reset_index(drop=True, inplace=True)\n",
    "df2.rename(columns={\"email\": \"tweets\"}, inplace=True) #rename column\n",
    "df2['company'] = 'apple' #add new column with company label\n",
    "print(df2)\n",
    "\n",
    "# Do the same for df3\n",
    "df3.loc[-1] = df3.columns.values\n",
    "df3.sort_index(inplace=True)\n",
    "df3.reset_index(drop=True, inplace=True)\n",
    "df3.rename(columns={\"koch\": \"tweets\"}, inplace=True) #rename column\n",
    "df3['company'] = 'home_depot' #add new column with company label\n",
    "print(df3)\n",
    "\n",
    "# Concat dataframes\n",
    "df = pd.concat([df1, df2, df3])\n",
    "print(df)"
   ]
  },
  {
   "cell_type": "code",
   "execution_count": 3,
   "id": "88026456",
   "metadata": {},
   "outputs": [
    {
     "name": "stdout",
     "output_type": "stream",
     "text": [
      "index = 0 : label = goldman_sachs\n",
      "index = 1 : label = apple\n",
      "index = 2 : label = home_depot\n",
      "(5341, 29) (5341,)\n",
      "DATA POINT-0: [0. 0. 0. 0. 0. 0. 0. 0. 0. 0.] y = 0    goldman_sachs\n",
      "0            apple\n",
      "0       home_depot\n",
      "Name: company, dtype: object\n"
     ]
    }
   ],
   "source": [
    "## SET X AND Y\n",
    "\n",
    "# y: CONVERT FROM STRING LABELS TO INTEGERS \n",
    "labels=[]; \n",
    "y=[]\n",
    "for label in df[\"company\"]:\n",
    "    if label not in labels:\n",
    "        labels.append(label)\n",
    "        print(\"index =\",len(labels)-1,\": label =\",label)\n",
    "    for i in range(0,len(labels)):\n",
    "        if(label==labels[i]):\n",
    "            y.append(i)\n",
    "y = np.array(y)\n",
    "y = df['company']\n",
    "\n",
    "# X\n",
    "# df[\"tweets\"] = gs_clean[0]. array of tweets\n",
    "\n",
    "corpus=df[\"tweets\"].to_list()\n",
    "# Initialize count vectorizer\n",
    "\n",
    "# Ignore terms that appear in less than 1% of the documents\n",
    "vectorizer=CountVectorizer(min_df=0.01)   \n",
    "\n",
    "# Run count vectorizer on corpus \n",
    "Xs  =  vectorizer.fit_transform(corpus)   \n",
    "X=np.array(Xs.todense())\n",
    "\n",
    "# Convert to one-hot vectors\n",
    "maxs=np.max(X,axis=0)\n",
    "X=np.ceil(X/maxs)\n",
    "\n",
    "# Double check\n",
    "print(X.shape,y.shape)\n",
    "print(\"DATA POINT-0:\",X[0,0:10],\"y =\",y[0])\n"
   ]
  },
  {
   "cell_type": "code",
   "execution_count": 4,
   "id": "5051af2e",
   "metadata": {},
   "outputs": [
    {
     "ename": "FileNotFoundError",
     "evalue": "[Errno 2] No such file or directory: '../data/gs_clean.csv'",
     "output_type": "error",
     "traceback": [
      "\u001b[0;31m---------------------------------------------------------------------------\u001b[0m",
      "\u001b[0;31mFileNotFoundError\u001b[0m                         Traceback (most recent call last)",
      "\u001b[1;32m/Users/cynthiang/Sync/School/Georgetown/Class/501-Intro/portfolio/anly-501-project-cynthia-ng/codes/naive_bayes_py.ipynb Cell 7\u001b[0m in \u001b[0;36m<cell line: 2>\u001b[0;34m()\u001b[0m\n\u001b[1;32m      <a href='vscode-notebook-cell:/Users/cynthiang/Sync/School/Georgetown/Class/501-Intro/portfolio/anly-501-project-cynthia-ng/codes/naive_bayes_py.ipynb#W6sZmlsZQ%3D%3D?line=0'>1</a>\u001b[0m \u001b[39m# open gs_clean csv\u001b[39;00m\n\u001b[0;32m----> <a href='vscode-notebook-cell:/Users/cynthiang/Sync/School/Georgetown/Class/501-Intro/portfolio/anly-501-project-cynthia-ng/codes/naive_bayes_py.ipynb#W6sZmlsZQ%3D%3D?line=1'>2</a>\u001b[0m gs_clean \u001b[39m=\u001b[39m pd\u001b[39m.\u001b[39;49mread_csv(\u001b[39m'\u001b[39;49m\u001b[39m../data/gs_clean.csv\u001b[39;49m\u001b[39m'\u001b[39;49m, on_bad_lines\u001b[39m=\u001b[39;49m\u001b[39m'\u001b[39;49m\u001b[39mskip\u001b[39;49m\u001b[39m'\u001b[39;49m)\n\u001b[1;32m      <a href='vscode-notebook-cell:/Users/cynthiang/Sync/School/Georgetown/Class/501-Intro/portfolio/anly-501-project-cynthia-ng/codes/naive_bayes_py.ipynb#W6sZmlsZQ%3D%3D?line=2'>3</a>\u001b[0m \u001b[39mprint\u001b[39m(gs_clean\u001b[39m.\u001b[39mhead())\n\u001b[1;32m      <a href='vscode-notebook-cell:/Users/cynthiang/Sync/School/Georgetown/Class/501-Intro/portfolio/anly-501-project-cynthia-ng/codes/naive_bayes_py.ipynb#W6sZmlsZQ%3D%3D?line=3'>4</a>\u001b[0m \u001b[39m# column with data is X, column with company labels is y\u001b[39;00m\n\u001b[1;32m      <a href='vscode-notebook-cell:/Users/cynthiang/Sync/School/Georgetown/Class/501-Intro/portfolio/anly-501-project-cynthia-ng/codes/naive_bayes_py.ipynb#W6sZmlsZQ%3D%3D?line=4'>5</a>\u001b[0m \u001b[39m# Partion data\u001b[39;00m\n",
      "File \u001b[0;32m~/opt/anaconda3/envs/class/lib/python3.10/site-packages/pandas/util/_decorators.py:311\u001b[0m, in \u001b[0;36mdeprecate_nonkeyword_arguments.<locals>.decorate.<locals>.wrapper\u001b[0;34m(*args, **kwargs)\u001b[0m\n\u001b[1;32m    305\u001b[0m \u001b[39mif\u001b[39;00m \u001b[39mlen\u001b[39m(args) \u001b[39m>\u001b[39m num_allow_args:\n\u001b[1;32m    306\u001b[0m     warnings\u001b[39m.\u001b[39mwarn(\n\u001b[1;32m    307\u001b[0m         msg\u001b[39m.\u001b[39mformat(arguments\u001b[39m=\u001b[39marguments),\n\u001b[1;32m    308\u001b[0m         \u001b[39mFutureWarning\u001b[39;00m,\n\u001b[1;32m    309\u001b[0m         stacklevel\u001b[39m=\u001b[39mstacklevel,\n\u001b[1;32m    310\u001b[0m     )\n\u001b[0;32m--> 311\u001b[0m \u001b[39mreturn\u001b[39;00m func(\u001b[39m*\u001b[39;49margs, \u001b[39m*\u001b[39;49m\u001b[39m*\u001b[39;49mkwargs)\n",
      "File \u001b[0;32m~/opt/anaconda3/envs/class/lib/python3.10/site-packages/pandas/io/parsers/readers.py:680\u001b[0m, in \u001b[0;36mread_csv\u001b[0;34m(filepath_or_buffer, sep, delimiter, header, names, index_col, usecols, squeeze, prefix, mangle_dupe_cols, dtype, engine, converters, true_values, false_values, skipinitialspace, skiprows, skipfooter, nrows, na_values, keep_default_na, na_filter, verbose, skip_blank_lines, parse_dates, infer_datetime_format, keep_date_col, date_parser, dayfirst, cache_dates, iterator, chunksize, compression, thousands, decimal, lineterminator, quotechar, quoting, doublequote, escapechar, comment, encoding, encoding_errors, dialect, error_bad_lines, warn_bad_lines, on_bad_lines, delim_whitespace, low_memory, memory_map, float_precision, storage_options)\u001b[0m\n\u001b[1;32m    665\u001b[0m kwds_defaults \u001b[39m=\u001b[39m _refine_defaults_read(\n\u001b[1;32m    666\u001b[0m     dialect,\n\u001b[1;32m    667\u001b[0m     delimiter,\n\u001b[0;32m   (...)\u001b[0m\n\u001b[1;32m    676\u001b[0m     defaults\u001b[39m=\u001b[39m{\u001b[39m\"\u001b[39m\u001b[39mdelimiter\u001b[39m\u001b[39m\"\u001b[39m: \u001b[39m\"\u001b[39m\u001b[39m,\u001b[39m\u001b[39m\"\u001b[39m},\n\u001b[1;32m    677\u001b[0m )\n\u001b[1;32m    678\u001b[0m kwds\u001b[39m.\u001b[39mupdate(kwds_defaults)\n\u001b[0;32m--> 680\u001b[0m \u001b[39mreturn\u001b[39;00m _read(filepath_or_buffer, kwds)\n",
      "File \u001b[0;32m~/opt/anaconda3/envs/class/lib/python3.10/site-packages/pandas/io/parsers/readers.py:575\u001b[0m, in \u001b[0;36m_read\u001b[0;34m(filepath_or_buffer, kwds)\u001b[0m\n\u001b[1;32m    572\u001b[0m _validate_names(kwds\u001b[39m.\u001b[39mget(\u001b[39m\"\u001b[39m\u001b[39mnames\u001b[39m\u001b[39m\"\u001b[39m, \u001b[39mNone\u001b[39;00m))\n\u001b[1;32m    574\u001b[0m \u001b[39m# Create the parser.\u001b[39;00m\n\u001b[0;32m--> 575\u001b[0m parser \u001b[39m=\u001b[39m TextFileReader(filepath_or_buffer, \u001b[39m*\u001b[39;49m\u001b[39m*\u001b[39;49mkwds)\n\u001b[1;32m    577\u001b[0m \u001b[39mif\u001b[39;00m chunksize \u001b[39mor\u001b[39;00m iterator:\n\u001b[1;32m    578\u001b[0m     \u001b[39mreturn\u001b[39;00m parser\n",
      "File \u001b[0;32m~/opt/anaconda3/envs/class/lib/python3.10/site-packages/pandas/io/parsers/readers.py:934\u001b[0m, in \u001b[0;36mTextFileReader.__init__\u001b[0;34m(self, f, engine, **kwds)\u001b[0m\n\u001b[1;32m    931\u001b[0m     \u001b[39mself\u001b[39m\u001b[39m.\u001b[39moptions[\u001b[39m\"\u001b[39m\u001b[39mhas_index_names\u001b[39m\u001b[39m\"\u001b[39m] \u001b[39m=\u001b[39m kwds[\u001b[39m\"\u001b[39m\u001b[39mhas_index_names\u001b[39m\u001b[39m\"\u001b[39m]\n\u001b[1;32m    933\u001b[0m \u001b[39mself\u001b[39m\u001b[39m.\u001b[39mhandles: IOHandles \u001b[39m|\u001b[39m \u001b[39mNone\u001b[39;00m \u001b[39m=\u001b[39m \u001b[39mNone\u001b[39;00m\n\u001b[0;32m--> 934\u001b[0m \u001b[39mself\u001b[39m\u001b[39m.\u001b[39m_engine \u001b[39m=\u001b[39m \u001b[39mself\u001b[39;49m\u001b[39m.\u001b[39;49m_make_engine(f, \u001b[39mself\u001b[39;49m\u001b[39m.\u001b[39;49mengine)\n",
      "File \u001b[0;32m~/opt/anaconda3/envs/class/lib/python3.10/site-packages/pandas/io/parsers/readers.py:1218\u001b[0m, in \u001b[0;36mTextFileReader._make_engine\u001b[0;34m(self, f, engine)\u001b[0m\n\u001b[1;32m   1214\u001b[0m     mode \u001b[39m=\u001b[39m \u001b[39m\"\u001b[39m\u001b[39mrb\u001b[39m\u001b[39m\"\u001b[39m\n\u001b[1;32m   1215\u001b[0m \u001b[39m# error: No overload variant of \"get_handle\" matches argument types\u001b[39;00m\n\u001b[1;32m   1216\u001b[0m \u001b[39m# \"Union[str, PathLike[str], ReadCsvBuffer[bytes], ReadCsvBuffer[str]]\"\u001b[39;00m\n\u001b[1;32m   1217\u001b[0m \u001b[39m# , \"str\", \"bool\", \"Any\", \"Any\", \"Any\", \"Any\", \"Any\"\u001b[39;00m\n\u001b[0;32m-> 1218\u001b[0m \u001b[39mself\u001b[39m\u001b[39m.\u001b[39mhandles \u001b[39m=\u001b[39m get_handle(  \u001b[39m# type: ignore[call-overload]\u001b[39;49;00m\n\u001b[1;32m   1219\u001b[0m     f,\n\u001b[1;32m   1220\u001b[0m     mode,\n\u001b[1;32m   1221\u001b[0m     encoding\u001b[39m=\u001b[39;49m\u001b[39mself\u001b[39;49m\u001b[39m.\u001b[39;49moptions\u001b[39m.\u001b[39;49mget(\u001b[39m\"\u001b[39;49m\u001b[39mencoding\u001b[39;49m\u001b[39m\"\u001b[39;49m, \u001b[39mNone\u001b[39;49;00m),\n\u001b[1;32m   1222\u001b[0m     compression\u001b[39m=\u001b[39;49m\u001b[39mself\u001b[39;49m\u001b[39m.\u001b[39;49moptions\u001b[39m.\u001b[39;49mget(\u001b[39m\"\u001b[39;49m\u001b[39mcompression\u001b[39;49m\u001b[39m\"\u001b[39;49m, \u001b[39mNone\u001b[39;49;00m),\n\u001b[1;32m   1223\u001b[0m     memory_map\u001b[39m=\u001b[39;49m\u001b[39mself\u001b[39;49m\u001b[39m.\u001b[39;49moptions\u001b[39m.\u001b[39;49mget(\u001b[39m\"\u001b[39;49m\u001b[39mmemory_map\u001b[39;49m\u001b[39m\"\u001b[39;49m, \u001b[39mFalse\u001b[39;49;00m),\n\u001b[1;32m   1224\u001b[0m     is_text\u001b[39m=\u001b[39;49mis_text,\n\u001b[1;32m   1225\u001b[0m     errors\u001b[39m=\u001b[39;49m\u001b[39mself\u001b[39;49m\u001b[39m.\u001b[39;49moptions\u001b[39m.\u001b[39;49mget(\u001b[39m\"\u001b[39;49m\u001b[39mencoding_errors\u001b[39;49m\u001b[39m\"\u001b[39;49m, \u001b[39m\"\u001b[39;49m\u001b[39mstrict\u001b[39;49m\u001b[39m\"\u001b[39;49m),\n\u001b[1;32m   1226\u001b[0m     storage_options\u001b[39m=\u001b[39;49m\u001b[39mself\u001b[39;49m\u001b[39m.\u001b[39;49moptions\u001b[39m.\u001b[39;49mget(\u001b[39m\"\u001b[39;49m\u001b[39mstorage_options\u001b[39;49m\u001b[39m\"\u001b[39;49m, \u001b[39mNone\u001b[39;49;00m),\n\u001b[1;32m   1227\u001b[0m )\n\u001b[1;32m   1228\u001b[0m \u001b[39massert\u001b[39;00m \u001b[39mself\u001b[39m\u001b[39m.\u001b[39mhandles \u001b[39mis\u001b[39;00m \u001b[39mnot\u001b[39;00m \u001b[39mNone\u001b[39;00m\n\u001b[1;32m   1229\u001b[0m f \u001b[39m=\u001b[39m \u001b[39mself\u001b[39m\u001b[39m.\u001b[39mhandles\u001b[39m.\u001b[39mhandle\n",
      "File \u001b[0;32m~/opt/anaconda3/envs/class/lib/python3.10/site-packages/pandas/io/common.py:786\u001b[0m, in \u001b[0;36mget_handle\u001b[0;34m(path_or_buf, mode, encoding, compression, memory_map, is_text, errors, storage_options)\u001b[0m\n\u001b[1;32m    781\u001b[0m \u001b[39melif\u001b[39;00m \u001b[39misinstance\u001b[39m(handle, \u001b[39mstr\u001b[39m):\n\u001b[1;32m    782\u001b[0m     \u001b[39m# Check whether the filename is to be opened in binary mode.\u001b[39;00m\n\u001b[1;32m    783\u001b[0m     \u001b[39m# Binary mode does not support 'encoding' and 'newline'.\u001b[39;00m\n\u001b[1;32m    784\u001b[0m     \u001b[39mif\u001b[39;00m ioargs\u001b[39m.\u001b[39mencoding \u001b[39mand\u001b[39;00m \u001b[39m\"\u001b[39m\u001b[39mb\u001b[39m\u001b[39m\"\u001b[39m \u001b[39mnot\u001b[39;00m \u001b[39min\u001b[39;00m ioargs\u001b[39m.\u001b[39mmode:\n\u001b[1;32m    785\u001b[0m         \u001b[39m# Encoding\u001b[39;00m\n\u001b[0;32m--> 786\u001b[0m         handle \u001b[39m=\u001b[39m \u001b[39mopen\u001b[39;49m(\n\u001b[1;32m    787\u001b[0m             handle,\n\u001b[1;32m    788\u001b[0m             ioargs\u001b[39m.\u001b[39;49mmode,\n\u001b[1;32m    789\u001b[0m             encoding\u001b[39m=\u001b[39;49mioargs\u001b[39m.\u001b[39;49mencoding,\n\u001b[1;32m    790\u001b[0m             errors\u001b[39m=\u001b[39;49merrors,\n\u001b[1;32m    791\u001b[0m             newline\u001b[39m=\u001b[39;49m\u001b[39m\"\u001b[39;49m\u001b[39m\"\u001b[39;49m,\n\u001b[1;32m    792\u001b[0m         )\n\u001b[1;32m    793\u001b[0m     \u001b[39melse\u001b[39;00m:\n\u001b[1;32m    794\u001b[0m         \u001b[39m# Binary mode\u001b[39;00m\n\u001b[1;32m    795\u001b[0m         handle \u001b[39m=\u001b[39m \u001b[39mopen\u001b[39m(handle, ioargs\u001b[39m.\u001b[39mmode)\n",
      "\u001b[0;31mFileNotFoundError\u001b[0m: [Errno 2] No such file or directory: '../data/gs_clean.csv'"
     ]
    }
   ],
   "source": [
    "# open gs_clean csv\n",
    "gs_clean = pd.read_csv('../data/gs_clean.csv', on_bad_lines='skip')\n",
    "print(gs_clean.head())\n",
    "# Vectorize\n",
    "\n",
    "# Partion data\n",
    "X_train, X_test, y_train, y_test = train_test_split(X, y, test_size = 0.2, random_state=4)\n",
    "\n",
    "# Check \n",
    "print(X_train.shape)\n",
    "print(y_train.shape)\n",
    "print(X_test.shape)\n",
    "print(y_test.shape)\n"
   ]
  },
  {
   "cell_type": "markdown",
   "id": "0b8c1fc7",
   "metadata": {},
   "source": [
    "## Naive Bayes Classifier"
   ]
  },
  {
   "cell_type": "code",
   "execution_count": 5,
   "id": "d914ee48",
   "metadata": {},
   "outputs": [],
   "source": [
    "# Initialize model\n",
    "fit1 = GaussianNB()\n",
    "\n",
    "# Fit to training data\n",
    "fit1.fit(X_train, y_train) \n",
    "\n",
    "# Predict on X_train\n",
    "y_train_pred = fit1.predict(X_train) "
   ]
  },
  {
   "cell_type": "code",
   "execution_count": 6,
   "id": "0bf0b0ca",
   "metadata": {},
   "outputs": [
    {
     "name": "stdout",
     "output_type": "stream",
     "text": [
      "Training set\n",
      "Accuracy:  66.64325842696628\n",
      "Number of mislabeled points out of a total 4275 points:  1425\n",
      "Test set\n",
      "Accuracy:  65.01403180542563\n",
      "Number of mislabeled points out of a total 1069 points:  374\n"
     ]
    }
   ],
   "source": [
    "# TEST ACCURACY\n",
    "# Training set\n",
    "print(\"Training set\")\n",
    "print(\"Accuracy: \", accuracy_score(y_train, y_train_pred) * 100) #accuracy score\n",
    "print(\"Number of mislabeled points out of a total 4275 points: \", (y_train != y_train_pred).sum()) #mislabeled points\n",
    "\n",
    "# Test set\n",
    "y_test_pred = fit1.predict(X_test)\n",
    "print(\"Test set\")\n",
    "print(\"Accuracy: \", accuracy_score(y_test, y_test_pred)*100) #accuracy score\n",
    "print(\"Number of mislabeled points out of a total 1069 points: \", (y_test != y_test_pred).sum()) #mislabeled points"
   ]
  },
  {
   "cell_type": "markdown",
   "id": "d1fc8712",
   "metadata": {},
   "source": [
    "## Visualize data"
   ]
  },
  {
   "cell_type": "code",
   "execution_count": 7,
   "id": "5f18630a",
   "metadata": {},
   "outputs": [
    {
     "data": {
      "image/png": "[encoded data removed]",
      "text/plain": [
       "<Figure size 640x480 with 1 Axes>"
      ]
     },
     "metadata": {},
     "output_type": "display_data"
    }
   ],
   "source": [
    "model_accuracies = pd.DataFrame({'Set':['Training set','Test set'], 'Accuracy (%)': [66.47, 65.67]})\n",
    "sns.barplot(data=model_accuracies, x=\"Set\", y=\"Accuracy (%)\").set(title = 'Accuracy of model for training vs test sets' )\n",
    "\n",
    "# Save plot\n",
    "plt.savefig(\"../501-project-website/images/naive_bayes_tweets_accuracy.png\")"
   ]
  },
  {
   "cell_type": "markdown",
   "id": "1ae17468",
   "metadata": {},
   "source": [
    "## Confusion matrix"
   ]
  },
  {
   "cell_type": "code",
   "execution_count": 8,
   "id": "1102117c",
   "metadata": {},
   "outputs": [
    {
     "name": "stderr",
     "output_type": "stream",
     "text": [
      "/Users/cynthiang/opt/anaconda3/envs/class/lib/python3.10/site-packages/sklearn/utils/deprecation.py:87: FutureWarning: Function plot_confusion_matrix is deprecated; Function `plot_confusion_matrix` is deprecated in 1.0 and will be removed in 1.2. Use one of the class methods: ConfusionMatrixDisplay.from_predictions or ConfusionMatrixDisplay.from_estimator.\n",
      "  warnings.warn(msg, category=FutureWarning)\n"
     ]
    },
    {
     "data": {
      "image/png": "[encoded data removed]",
      "text/plain": [
       "<Figure size 640x480 with 2 Axes>"
      ]
     },
     "metadata": {},
     "output_type": "display_data"
    }
   ],
   "source": [
    "from sklearn.metrics import plot_confusion_matrix\n",
    "\n",
    "plot_confusion_matrix(fit1 , X_test ,  y_test ,  cmap=\"Blues\")\n",
    "\n",
    "# Plot confusion matrix\n",
    "plt.title(\"Confusion matrix for Naive Bayes model\")\n",
    "\n",
    "# Save confusion matrix plot\n",
    "plt.savefig(\"../501-project-website/images/naive_bayes_tweets_confusion_matrix.png\")"
   ]
  }
 ],
 "metadata": {
  "kernelspec": {
   "display_name": "Python 3.10.4 ('class')",
   "language": "python",
   "name": "python3"
  },
  "language_info": {
   "codemirror_mode": {
    "name": "ipython",
    "version": 3
   },
   "file_extension": ".py",
   "mimetype": "text/x-python",
   "name": "python",
   "nbconvert_exporter": "python",
   "pygments_lexer": "ipython3",
   "version": "3.10.4"
  },
  "vscode": {
   "interpreter": {
    "hash": "15746aa1dcf7a2a78475ba9215d3f8835d2f92e9634eaaa8b18bbade37f57527"
   }
  }
 },
 "nbformat": 4,
 "nbformat_minor": 5
}
