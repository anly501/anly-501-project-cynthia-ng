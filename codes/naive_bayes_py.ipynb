{
 "cells": [
  {
   "cell_type": "code",
   "execution_count": null,
   "id": "26e51404",
   "metadata": {},
   "outputs": [],
   "source": [
    "# Load libraries\n",
    "from matplotlib.cbook import get_sample_data\n",
    "from sklearn.naive_bayes import GaussianNB\n",
    "from sklearn.model_selection import train_test_split\n",
    "import seaborn as sns \n",
    "import matplotlib.pyplot as plt\n",
    "import os\n",
    "\n",
    "# Read csv files\n",
    "full_path = os.path.realpath(\"cleaning_py.ipynb\")\n",
    "path, filename = os.path.split(full_path)\n",
    "os.chdir(path)\n",
    "os.chdir('../data')\n",
    "with open(\"GoldmanSachsTweets.txt\", \"r\", encoding='utf-8-sig') as f:\n",
    "    string = f.read()\n",
    "apdata = pd.read_csv('positive.csv', sep=';',error_bad_lines=False, names=n, usecols=['text'])\n",
    "gsdata = pd.read_csv('')\n"
   ]
  }
 ],
 "metadata": {
  "kernelspec": {
   "display_name": "Python 3.10.4 ('class')",
   "language": "python",
   "name": "python3"
  },
  "language_info": {
   "codemirror_mode": {
    "name": "ipython",
    "version": 3
   },
   "file_extension": ".py",
   "mimetype": "text/x-python",
   "name": "python",
   "nbconvert_exporter": "python",
   "pygments_lexer": "ipython3",
   "version": "3.10.4"
  },
  "vscode": {
   "interpreter": {
    "hash": "15746aa1dcf7a2a78475ba9215d3f8835d2f92e9634eaaa8b18bbade37f57527"
   }
  }
 },
 "nbformat": 4,
 "nbformat_minor": 5
}
