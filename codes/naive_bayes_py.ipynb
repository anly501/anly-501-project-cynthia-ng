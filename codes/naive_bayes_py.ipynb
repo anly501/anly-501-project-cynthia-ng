{
 "cells": [
  {
   "cell_type": "code",
   "execution_count": 22,
   "id": "26e51404",
   "metadata": {},
   "outputs": [
    {
     "name": "stdout",
     "output_type": "stream",
     "text": [
      "          apple goldman_sachs home_depot\n",
      "          email       goldman       koch\n",
      "0          want         sachs   industry\n",
      "1     something       laporta   american\n",
      "2          must      tomorrow    crystal\n",
      "3      approach       goldman      sugar\n",
      "4        slowly         sachs       home\n",
      "...         ...           ...        ...\n",
      "1977        NaN           efc        NaN\n",
      "1978        NaN     catskillf        NaN\n",
      "1979        NaN     catskillf        NaN\n",
      "1980        NaN     catskillf        NaN\n",
      "1981        NaN     goldman,s        NaN\n",
      "\n",
      "[1982 rows x 3 columns]\n"
     ]
    }
   ],
   "source": [
    "# Load libraries\n",
    "import os\n",
    "import pandas as pd\n",
    "from sklearn.naive_bayes import GaussianNB\n",
    "from sklearn.model_selection import train_test_split\n",
    "import seaborn as sns \n",
    "import matplotlib.pyplot as plt\n",
    "\n",
    "# Read csv files\n",
    "full_path = os.path.realpath(\"cleaning_py.ipynb\")\n",
    "path, filename = os.path.split(full_path)\n",
    "os.chdir(path)\n",
    "os.chdir('../data')\n",
    "ap = pd.read_fwf('cleaned_apple_tweets.csv', sep=',')\n",
    "gs = pd.read_fwf('cleaned_goldman_sachs_tweets.csv', sep=',')\n",
    "hd = pd.read_fwf('cleaned_home_depot_tweets.csv', sep=',')\n",
    "\n",
    "apdf = pd.DataFrame(ap)\n",
    "gsdf = pd.DataFrame(gs)\n",
    "hddf = pd.DataFrame(hd)\n",
    "frames = [apdf, gsdf, hddf]\n",
    "\n",
    "df = pd.concat(frames, keys = ['apple', 'goldman_sachs', 'home_depot'], axis=1)\n",
    "print(df)"
   ]
  },
  {
   "cell_type": "code",
   "execution_count": null,
   "id": "c8be692c",
   "metadata": {},
   "outputs": [],
   "source": []
  }
 ],
 "metadata": {
  "kernelspec": {
   "display_name": "Python 3.10.4 ('class')",
   "language": "python",
   "name": "python3"
  },
  "language_info": {
   "codemirror_mode": {
    "name": "ipython",
    "version": 3
   },
   "file_extension": ".py",
   "mimetype": "text/x-python",
   "name": "python",
   "nbconvert_exporter": "python",
   "pygments_lexer": "ipython3",
   "version": "3.10.4"
  },
  "vscode": {
   "interpreter": {
    "hash": "15746aa1dcf7a2a78475ba9215d3f8835d2f92e9634eaaa8b18bbade37f57527"
   }
  }
 },
 "nbformat": 4,
 "nbformat_minor": 5
}
