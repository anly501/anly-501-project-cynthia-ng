{
 "cells": [
  {
   "cell_type": "code",
   "execution_count": 1,
   "id": "7217f911",
   "metadata": {},
   "outputs": [],
   "source": [
    "# Import libraries\n",
    "import os\n",
    "from sklearn.feature_extraction.text import CountVectorizer\n",
    "import nltk\n",
    "from nltk.corpus import stopwords\n",
    "from nltk.tokenize import word_tokenize\n",
    "import seaborn as sns\n",
    "import matplotlib.pyplot as plt\n",
    "import re\n",
    "\n",
    "# Open file and save as corpus\n",
    "full_path = os.path.realpath(\"cleaning_py.ipynb\")\n",
    "path, filename = os.path.split(full_path)\n",
    "os.chdir(path)\n",
    "os.chdir('../data')\n",
    "with open(\"GoldmanSachsTweets.txt\", \"r\", encoding='utf-8-sig') as f:\n",
    "    string = f.read()"
   ]
  },
  {
   "cell_type": "code",
   "execution_count": 2,
   "id": "2b85a75e",
   "metadata": {},
   "outputs": [],
   "source": [
    "# Lower tweets\n",
    "temp = string.lower()\n",
    "\n",
    "# Remove hashtags and mentions\n",
    "temp = re.sub(\"@[A-Za-z0-9_]+\",\"\", temp)\n",
    "temp = re.sub(\"#[A-Za-z0-9_]+\",\"\", temp)\n",
    "\n",
    "# Remove links\n",
    "temp = re.sub(r\"http\\S+\", \"\", temp)\n",
    "temp = re.sub(r\"www.\\S+\", \"\", temp)\n",
    "\n",
    "# Remove punctuation\n",
    "temp = re.sub('[()!?]', ' ', temp)\n",
    "temp = re.sub('\\[.*?\\]',' ', temp)\n",
    "\n",
    "# Remove non-alpha numbers\n",
    "temp = re.sub(\"[^a-z]\",\" \", temp)\n",
    "\n",
    "# Tokenize tweets\n",
    "temp = temp.split()"
   ]
  },
  {
   "cell_type": "code",
   "execution_count": 3,
   "id": "033c878d",
   "metadata": {},
   "outputs": [
    {
     "name": "stdout",
     "output_type": "stream",
     "text": [
      "['i', 'me', 'my', 'myself', 'we', 'our', 'ours', 'ourselves', 'you', \"you're\", \"you've\", \"you'll\", \"you'd\", 'your', 'yours', 'yourself', 'yourselves', 'he', 'him', 'his', 'himself', 'she', \"she's\", 'her', 'hers', 'herself', 'it', \"it's\", 'its', 'itself', 'they', 'them', 'their', 'theirs', 'themselves', 'what', 'which', 'who', 'whom', 'this', 'that', \"that'll\", 'these', 'those', 'am', 'is', 'are', 'was', 'were', 'be', 'been', 'being', 'have', 'has', 'had', 'having', 'do', 'does', 'did', 'doing', 'a', 'an', 'the', 'and', 'but', 'if', 'or', 'because', 'as', 'until', 'while', 'of', 'at', 'by', 'for', 'with', 'about', 'against', 'between', 'into', 'through', 'during', 'before', 'after', 'above', 'below', 'to', 'from', 'up', 'down', 'in', 'out', 'on', 'off', 'over', 'under', 'again', 'further', 'then', 'once', 'here', 'there', 'when', 'where', 'why', 'how', 'all', 'any', 'both', 'each', 'few', 'more', 'most', 'other', 'some', 'such', 'no', 'nor', 'not', 'only', 'own', 'same', 'so', 'than', 'too', 'very', 's', 't', 'can', 'will', 'just', 'don', \"don't\", 'should', \"should've\", 'now', 'd', 'll', 'm', 'o', 're', 've', 'y', 'ain', 'aren', \"aren't\", 'couldn', \"couldn't\", 'didn', \"didn't\", 'doesn', \"doesn't\", 'hadn', \"hadn't\", 'hasn', \"hasn't\", 'haven', \"haven't\", 'isn', \"isn't\", 'ma', 'mightn', \"mightn't\", 'mustn', \"mustn't\", 'needn', \"needn't\", 'shan', \"shan't\", 'shouldn', \"shouldn't\", 'wasn', \"wasn't\", 'weren', \"weren't\", 'won', \"won't\", 'wouldn', \"wouldn't\", 'false', 'na', 'true', 'href', 'rt', 'twitter', 'rel', 'nofollow', 'rr', 'x']\n",
      "['goldman', 'sachs', 'laporta', 'tomorrow', 'goldman', 'sachs', 'laporta', 'tomorrow', 'leader', 'like', 'financial', 'big', 'sharks', 'like', 'deal', 'dictator', 'wang', 'qishan', 'girlfriend', 'gao', 'yanyan', 'sit', 'apologies', 'sir', 'john', 'good', 'former', 'minister', 'successful', 'city', 'figure', 'goldman', 'morgan', 'stanley', 'ms', 'surprised', 'market', 'q', 'result', 'goldman', 'sachs', 'changed', 'rating', 'hold', 'morgan', 'stanle', 'goldman', 'sachs', 'ipo', 'billion', 'piloting', 'portfolio', 'volatile', 'markets', 'goldman', 'sachs', 'via', 'goldman', 'sachs', 'laporta', 'tomorrow', 'goldman', 'sachs', 'laporta', 'tomorrow', 'uk', 'property', 'values', 'could', 'fall', 'government', 'mini', 'budget', 'last', 'month', 'led', 'steep', 'rise', 'borrowing', 'costs', 'outdoorsy', 'announces', 'b', 'milestone', 'company', 'ceo', 'receives', 'entrepreneur', 'award', 'goldman', 'sachs', 'summit', 'pr', 'newswire', 'goldman', 'sachs', 'laporta', 'tomorrow', 'sept', 'cpi', 'estimates', 'credit', 'suisse', 'barclays', 'bank', 'america', 'goldman', 'sachs', 'jp', 'morgan', 'mo', 'goldman', 'sachs', 'laporta', 'tomorrow', 'goldman', 'sachs', 'laporta', 'tomorrow', 'goldman', 'sachs', 'laporta', 'tomorrow', 'sept', 'cpi', 'estimates', 'credit', 'suisse', 'barclays', 'bank', 'america', 'goldman', 'sachs', 'jp', 'morgan', 'mo', 'warning', 'came', 'january', 'news', 'biden', 'mean', 'higher', 'oil', 'prices', 'macron', 'goldman', 'sachs', 'goldman', 'sachs', 'laporta', 'tomorrow', 'goldman', 'sachs', 'laporta', 'tomorrow', 'goldman', 'sachs', 'laporta', 'tomorrow', 'cpi', 'estimates', 'credit', 'suisse', 'barclays', 'scotia', 'bank', 'nomura', 'bmo', 'cibc', 'bofa', 'goldman', 'sachs', 'gets', 'million', 'national', 'banking', 'violations', 'make', 'make', 'sense', 'goldman', 'sachs', 'laporta', 'tomorrow', 'goldman', 'sachs', 'laporta', 'tomorrow', 'sept', 'cpi', 'estimates', 'credit', 'suisse', 'barclays', 'bank', 'america', 'goldman', 'sachs', 'jp', 'morgan', 'mo', 'goldman', 'sachs', 'laporta', 'tomorrow', 'goldman', 'sachs', 'hydrogen', 'generation', 'could', 'grow', 'trillion', 'per', 'year', 'market', 'goldman', 'sachs', 'laporta', 'tomorrow', 'sept', 'cpi', 'estimates', 'credit', 'suisse', 'barclays', 'bank', 'america', 'goldman', 'sachs', 'jp', 'morgan', 'goldman', 'sachs', 'laporta', 'tomorrow', 'almost', 'everyone', 'point', 'going', 'give', 'one', 'dream', 'sacrifice', 'cpi', 'estimates', 'credit', 'suisse', 'barclays', 'scotia', 'bank', 'nomura', 'bmo', 'cibc', 'bofa', 'goldman', 'sachs', 'cpi', 'scenarios', 'amp', 'p', 'loses', 'amp', 'p', 'loses', 'amp', 'p', 'gains', 'amp', 'p', 'gains', 'cpi', 'estimates', 'tomorrow', 'credit', 'suisse', 'barclays', 'scotiabank', 'nomura', 'bmo', 'cibc', 'bank', 'america', 'sept', 'cpi', 'estimates', 'credit', 'suisse', 'barclays', 'bank', 'america', 'goldman', 'sachs', 'jp', 'morgan', 'mo', 'sept', 'cpi', 'estimates', 'credit', 'suisse', 'barclays', 'bank', 'america', 'goldman', 'sachs', 'jp', 'morgan', 'mo', 'cpi', 'estimates', 'tomorrow', 'credit', 'suisse', 'barclays', 'scotiabank', 'nomura', 'bmo', 'cibc', 'bank', 'america', 'sept', 'cpi', 'estimates', 'credit', 'suisse', 'barclays', 'bank', 'america', 'goldman', 'sachs', 'jp', 'morgan', 'mo', 'goldman', 'sachs', 'laporta', 'tomorrow', 'goldman', 'sachs', 'shall', 'sanctioned', 'american', 'gov', 'soon', 'publicly', 'giving', 'positive', 'view', 'russian', 'goldman', 'sachs', 'laporta', 'tomorrow', 'goldman', 'sachs', 'laporta', 'tomorrow', 'goldman', 'sachs', 'laporta', 'tomorrow', 'sept', 'cpi', 'estimates', 'credit', 'suisse', 'barclays', 'bank', 'america', 'goldman', 'sachs', 'jp', 'morgan', 'mo', 'sept', 'cpi', 'estimates', 'credit', 'suisse', 'barclays', 'bank', 'america', 'goldman', 'sachs', 'jp', 'morgan', 'mo', 'goldman', 'sachs', 'laporta', 'tomorrow', 'goldman', 'sachs', 'laporta', 'tomorrow', 'good', 'news', 'trend', 'continues', 'like', 'soon', 'felt', 'markets', 'well', 'let', 'see', 'goldman', 'sachs', 'laporta', 'tomorrow', 'sept', 'cpi', 'estimates', 'credit', 'suisse', 'barclays', 'bank', 'america', 'goldman', 'sachs', 'jp', 'morgan', 'mo', 'goldman', 'sachs', 'laporta', 'tomorrow', 'goldman', 'sachs', 'hydrogen', 'generation', 'could', 'grow', 'trillion', 'per', 'year', 'market', 'goldman', 'sachs', 'laporta', 'tomorrow', 'initial', 'bar', 'next', 'day', 'seems', 'goldman', 'sachs', 'ink', 'sept', 'cpi', 'estimates', 'credit', 'suisse', 'barclays', 'bank', 'america', 'goldman', 'sachs', 'jp', 'morgan', 'morga', 'goldman', 'sachs', 'laporta', 'tomorrow', 'goldman', 'sachs', 'laporta', 'tomorrow', 'sept', 'cpi', 'estimates', 'credit', 'suisse', 'barclays', 'bank', 'america', 'goldman', 'sachs', 'jp', 'morgan', 'united', 'states', 'jobs', 'hiring', 'sales', 'manager', 'tennex', 'legal', 'hiredinny', 'apply', 'jobs', 'gt', 'abo', 'goldman', 'sachs', 'laporta', 'tomorrow', 'goldman', 'sachs', 'urrent', 'activity', 'indicator', 'gives', 'month', 'month', 'view', 'countries', 'economies', 'farin', 'goldman', 'sachs', 'laporta', 'tomorrow', 'goldman', 'sachs', 'laporta', 'tomorrow', 'goldman', 'sachs', 'laporta', 'tomorrow', 'cpi', 'estimates', 'tomorrow', 'credit', 'suisse', 'barclays', 'scotiabank', 'nomura', 'bmo', 'cibc', 'bank', 'america', 'sept', 'cpi', 'estimates', 'credit', 'suisse', 'barclays', 'bank', 'america', 'goldman', 'sachs', 'jp', 'morgan', 'mo', 'ser', 'please', 'ex', 'head', 'hedge', 'funds', 'goldman', 'sachs', 'cpi', 'estimates', 'tomorrow', 'credit', 'suisse', 'barclays', 'scotiabank', 'nomura', 'bmo', 'cibc', 'bank', 'america', 'goldman', 'sachs', 'laporta', 'tomorrow', 'goldman', 'sachs', 'cool', 'kayne', 'sept', 'cpi', 'estimates', 'credit', 'suisse', 'barclays', 'bank', 'america', 'goldman', 'sachs', 'jp', 'morgan', 'mo', 'goldman', 'sachs', 'laporta', 'tomorrow', 'goldman', 'sachs', 'laporta', 'tomorrow', 'goldman', 'sachs', 'laporta', 'tomorrow', 'cpi', 'estimates', 'tomorrow', 'credit', 'suisse', 'barclays', 'scotiabank', 'nomura', 'bmo', 'cibc', 'bank', 'america', 'sept', 'cpi', 'estimates', 'credit', 'suisse', 'barclays', 'bank', 'america', 'goldman', 'sachs', 'jp', 'morgan', 'mo', 'sept', 'cpi', 'estimates', 'credit', 'suisse', 'barclays', 'bank', 'america', 'goldman', 'sachs', 'jp', 'morgan', 'mo', 'know', 'made', 'fortune', 'gensler', 'goldma', 'goldman', 'sachs', 'sounds', 'alarm', 'uk', 'commercial', 'property', 'goldman', 'sachs', 'laporta', 'tomorrow', 'results', 'hour', 'banks', 'reckon', 'barclays', 'credit', 'suisse', 'bank', 'america', 'cibc', 'goldman', 'sac', 'sept', 'cpi', 'estimates', 'credit', 'suisse', 'barclays', 'bank', 'america', 'goldman', 'sachs', 'jp', 'morgan', 'mo', 'results', 'minutes', 'banks', 'calling', 'barclays', 'credit', 'suisse', 'bank', 'america', 'cibc', 'gold', 'sept', 'cpi', 'estimates', 'credit', 'suisse', 'barclays', 'bank', 'america', 'goldman', 'sachs', 'jp', 'morgan', 'mo', 'cpi', 'estimates', 'tomorrow', 'credit', 'suisse', 'barclays', 'scotiabank', 'nomura', 'bmo', 'cibc', 'bank', 'america', 'cpi', 'estimates', 'tomorrow', 'credit', 'suisse', 'barclays', 'scotiabank', 'nomura', 'bmo', 'cibc', 'bank', 'america', 'sept', 'cpi', 'estimates', 'credit', 'suisse', 'barclays', 'bank', 'america', 'goldman', 'sachs', 'jp', 'morgan', 'mo', 'sept', 'cpi', 'estimates', 'credit', 'suisse', 'barclays', 'bank', 'america', 'goldman', 'sachs', 'jp', 'morgan', 'mo', 'results', 'minutes', 'banks', 'calling', 'barclays', 'credit', 'suisse', 'bank', 'america', 'cibc', 'gold', 'goldman', 'sachs', 'laporta', 'tomorrow', 'know', 'would', 'worse', 'surprise', 'tell', 'us', 'harvard', 'education', 'marriage', 'inves', 'estimated', 'cpi', 'goldman', 'sachs', 'j', 'p', 'morgan', 'morgan', 'stanley', 'bank', 'america', 'goldman', 'sachs', 'laporta', 'tomorrow', 'sept', 'cpi', 'estimates', 'credit', 'suisse', 'barclays', 'bank', 'america', 'goldman', 'sachs', 'jp', 'morgan', 'mo', 'sept', 'cpi', 'estimates', 'credit', 'suisse', 'barclays', 'bank', 'america', 'goldman', 'sachs', 'jp', 'morgan', 'mo', 'sept', 'cpi', 'estimates', 'credit', 'suisse', 'barclays', 'bank', 'america', 'goldman', 'sachs', 'jp', 'morgan', 'mo', 'goldman', 'sachs', 'laporta', 'tomorrow', 'sept', 'cpi', 'estimates', 'credit', 'suisse', 'barclays', 'bank', 'america', 'goldman', 'sachs', 'jp', 'morgan', 'mo', 'sept', 'cpi', 'estimates', 'credit', 'suisse', 'barclays', 'bank', 'america', 'goldman', 'sachs', 'jp', 'morgan', 'mo', 'sept', 'cpi', 'estimates', 'credit', 'suisse', 'barclays', 'bank', 'america', 'goldman', 'sachs', 'jp', 'morgan', 'mo', 'results', 'minutes', 'banks', 'calling', 'barclays', 'credit', 'suisse', 'bank', 'america', 'cibc', 'gold', 'results', 'minutes', 'banks', 'calling', 'barclays', 'credit', 'suisse', 'bank', 'america', 'cibc', 'gold', 'sept', 'cpi', 'estimates', 'credit', 'suisse', 'barclays', 'bank', 'america', 'goldman', 'sachs', 'jp', 'morgan', 'mo', 'sept', 'cpi', 'estimates', 'credit', 'suisse', 'barclays', 'bank', 'america', 'goldman', 'sachs', 'jp', 'morgan', 'sept', 'cpi', 'estimates', 'credit', 'suisse', 'barclays', 'bank', 'america', 'goldman', 'sachs', 'jp', 'morgan', 'mo', 'sept', 'cpi', 'estimates', 'credit', 'suisse', 'barclays', 'bank', 'america', 'goldman', 'sachs', 'jp', 'morgan', 'mo', 'gs', 'goldman', 'sachs', 'analyst', 'maintains', 'relmada', 'therapeutics', 'nasdaq', 'rlmd', 'buy', 'raises', 'price', 'target', 'fro', 'happened', 'call', 'april', 'th', 'generac', 'gnrc', 'maker', 'backup', 'generators', 'energy', 'cpi', 'estimates', 'tomorrow', 'credit', 'suisse', 'barclays', 'scotiabank', 'nomura', 'bmo', 'cibc', 'bank', 'america', 'sept', 'cpi', 'estimates', 'credit', 'suisse', 'barclays', 'bank', 'america', 'goldman', 'sachs', 'jp', 'morgan', 'mo', 'goldman', 'sachs', 'laporta', 'tomorrow', 'sept', 'cpi', 'estimates', 'credit', 'suisse', 'barclays', 'bank', 'america', 'goldman', 'sachs', 'jp', 'morgan', 'mo', 'sept', 'cpi', 'estimates', 'credit', 'suisse', 'barclays', 'bank', 'america', 'goldman', 'sachs', 'jp', 'morgan', 'mo', 'goldman', 'sachs', 'laporta', 'tomorrow', 'sept', 'cpi', 'estimates', 'credit', 'suisse', 'barclays', 'bank', 'america', 'goldman', 'sachs', 'jp', 'morgan', 'mo', 'sept', 'cpi', 'estimates', 'credit', 'suisse', 'barclays', 'bank', 'america', 'goldman', 'sachs', 'jp', 'morgan', 'mo', 'sept', 'cpi', 'estimates', 'credit', 'suisse', 'barclays', 'bank', 'america', 'goldman', 'sachs', 'jp', 'morgan', 'mo', 'sept', 'cpi', 'estimates', 'credit', 'suisse', 'barclays', 'bank', 'america', 'goldman', 'sachs', 'jp', 'morgan', 'mo', 'goldman', 'sachs', 'core', 'cpi', 'mom', 'cpi', 'yoy', 'sept', 'cpi', 'estimates', 'credit', 'suisse', 'barclays', 'bank', 'america', 'goldman', 'sachs', 'jp', 'morgan', 'mo', 'goldman', 'sachs', 'laporta', 'tomorrow', 'goldman', 'sachs', 'laporta', 'tomorrow', 'goldman', 'sachs', 'laporta', 'tomorrow', 'sept', 'cpi', 'estimates', 'credit', 'suisse', 'barclays', 'bank', 'america', 'goldman', 'sachs', 'jp', 'morgan', 'mo', 'sept', 'cpi', 'estimates', 'credit', 'suisse', 'barclays', 'bank', 'america', 'goldman', 'sachs', 'jp', 'morgan', 'mo', 'sept', 'cpi', 'estimates', 'credit', 'suisse', 'barclays', 'bank', 'america', 'goldman', 'sachs', 'jp', 'morgan', 'mo', 'sept', 'cpi', 'estimates', 'credit', 'suisse', 'barclays', 'bank', 'america', 'goldman', 'sachs', 'jp', 'morgan', 'mo', 'sept', 'cpi', 'estimates', 'credit', 'suisse', 'barclays', 'bank', 'america', 'goldman', 'sachs', 'jp', 'morgan', 'mo', 'goldman', 'sachs', 'urrent', 'activity', 'indicator', 'gives', 'month', 'month', 'view', 'countries', 'economies', 'goldman', 'sachs', 'laporta', 'tomorrow', 'elon', 'musk', 'wants', 'start', 'family', 'happen', 'goldman', 'sachs', 'gets', 'pregnant', 'moves', 'tj', 'max', 'sept', 'cpi', 'estimates', 'credit', 'suisse', 'barclays', 'bank', 'america', 'goldman', 'sachs', 'jp', 'morgan', 'mo', 'goldman', 'sachs', 'gs', 'options', 'c', 'p', 'ratio', 'expiry', 'date', 'oct', 'last', 'traded', 'price', 'largest', 'increase', 'sept', 'cpi', 'estimates', 'credit', 'suisse', 'barclays', 'bank', 'america', 'goldman', 'sachs', 'jp', 'morgan', 'mo', 'sept', 'cpi', 'estimates', 'credit', 'suisse', 'barclays', 'bank', 'america', 'goldman', 'sachs', 'jp', 'morgan', 'mo', 'sept', 'cpi', 'estimates', 'credit', 'suisse', 'barclays', 'bank', 'america', 'goldman', 'sachs', 'jp', 'morgan', 'mo', 'sept', 'cpi', 'estimates', 'credit', 'suisse', 'barclays', 'bank', 'america', 'goldman', 'sachs', 'jp', 'morgan', 'mo', 'sept', 'cpi', 'estimates', 'credit', 'suisse', 'barclays', 'bank', 'america', 'goldman', 'sachs', 'jp', 'morgan', 'mo', 'sept', 'cpi', 'estimates', 'credit', 'suisse', 'barclays', 'bank', 'america', 'goldman', 'sachs', 'jp', 'morgan', 'mo', 'sept', 'cpi', 'estimates', 'credit', 'suisse', 'barclays', 'bank', 'america', 'goldman', 'sachs', 'jp', 'morgan', 'mo', 'sept', 'cpi', 'estimates', 'credit', 'suisse', 'barclays', 'bank', 'america', 'goldman', 'sachs', 'jp', 'morgan', 'mo', 'sept', 'cpi', 'estimates', 'credit', 'suisse', 'barclays', 'bank', 'america', 'goldman', 'sachs', 'jp', 'morgan', 'mo', 'goldman', 'sachs', 'laporta', 'tomorrow', 'sept', 'cpi', 'estimates', 'credit', 'suisse', 'barclays', 'bank', 'america', 'goldman', 'sachs', 'jp', 'morgan', 'mo', 'sept', 'cpi', 'estimates', 'credit', 'suisse', 'barclays', 'bank', 'america', 'goldman', 'sachs', 'jp', 'morgan', 'mo', 'sept', 'cpi', 'estimates', 'credit', 'suisse', 'barclays', 'bank', 'america', 'goldman', 'sachs', 'jp', 'morgan', 'mo', 'goldman', 'sachs', 'asks', 'biotech', 'research', 'report', 'curing', 'patients', 'sustainable', 'business', 'model', 'sept', 'cpi', 'estimates', 'credit', 'suisse', 'barclays', 'bank', 'america', 'goldman', 'sachs', 'jp', 'morgan', 'mo', 'goldman', 'sachs', 'laporta', 'tomorrow', 'goldman', 'sachs', 'laporta', 'tomorrow', 'sept', 'cpi', 'estimates', 'credit', 'suisse', 'barclays', 'bank', 'america', 'goldman', 'sachs', 'jp', 'morgan', 'wlk', 'goldman', 'sachs', 'initiates', 'coverage', 'neutral', 'announces', 'price', 'target', 'sign', 'free', 'beta', 'ver', 'unvr', 'goldman', 'sachs', 'initiates', 'coverage', 'neutral', 'announces', 'price', 'target', 'sign', 'free', 'beta', 'lyb', 'goldman', 'sachs', 'initiates', 'coverage', 'sell', 'announces', 'price', 'target', 'sign', 'free', 'lin', 'goldman', 'sachs', 'initiates', 'coverage', 'buy', 'announces', 'price', 'target', 'sign', 'free', 'beta', 'ver', 'kro', 'goldman', 'sachs', 'initiates', 'coverage', 'sell', 'announces', 'price', 'target', 'sign', 'free', 'beta', 'hun', 'goldman', 'sachs', 'initiates', 'coverage', 'sell', 'announces', 'price', 'target', 'sign', 'free', 'beta', 'ver', 'esi', 'goldman', 'sachs', 'initiates', 'coverage', 'neutral', 'announces', 'price', 'target', 'sign', 'free', 'emn', 'goldman', 'sachs', 'initiates', 'coverage', 'neutral', 'announces', 'price', 'target', 'sign', 'free', 'b', 'dow', 'goldman', 'sachs', 'initiates', 'coverage', 'neutral', 'announces', 'price', 'target', 'sign', 'free', 'beta', 'ver', 'cc', 'goldman', 'sachs', 'initiates', 'coverage', 'neutral', 'announces', 'price', 'target', 'sign', 'free', 'beta', 'ver', 'apd', 'goldman', 'sachs', 'initiates', 'coverage', 'buy', 'announces', 'price', 'target', 'sign', 'free', 'students', 'short', 'term', 'anxious', 'long', 'term', 'confident', 'importantly', 'goldman', 'sachs', 'laporta', 'tomorrow', 'big', 'tech', 'firms', 'top', 'landing', 'spot', 'recent', 'goldman', 'sachs', 'tech', 'departures', 'could', 'early', 'si', 'goldman', 'sachs', 'laporta', 'tomorrow', 'retail', 'investors', 'moved', 'buying', 'single', 'stocks', 'calls', 'spx', 'bullish', 'going', 'earnings', 'seaso', 'trust', 'goldman', 'sachs', 'lose', 'credibility', 'goldman', 'sachs', 'laporta', 'tomorrow', 'goldman', 'sachs', 'laporta', 'tomorrow', 'microsoft', 'corp', 'msft', 'surprised', 'market', 'q', 'result', 'goldman', 'sachs', 'changed', 'rating', 'hold', 'microsoft', 'goldman', 'sachs', 'jpmorgan', 'morgan', 'stanley', 'others', 'like', 'hire', 'big', 'tech', 'firms', 'top', 'landing', 'spot', 'recent', 'goldman', 'sachs', 'tech', 'departures', 'could', 'early', 'si', 'goldman', 'sachs', 'jpmorgan', 'morgan', 'stanley', 'others', 'like', 'hire', 'goldman', 'sachs', 'jpmorgan', 'morgan', 'stanley', 'others', 'like', 'hire', 'goldman', 'sachs', 'laporta', 'tomorrow', 'goldman', 'sachs', 'j', 'p', 'morgan', 'got', 'securities', 'licenses', 'hainan', 'wang', 'qishan', 'term', 'business', 'insider', 'big', 'tech', 'firms', 'top', 'landing', 'spot', 'recent', 'goldman', 'sachs', 'tech', 'departures', 'c', 'big', 'tech', 'firms', 'top', 'landing', 'spot', 'recent', 'goldman', 'sachs', 'tech', 'departures', 'could', 'early', 'si', 'big', 'tech', 'firms', 'top', 'landing', 'spot', 'recent', 'goldman', 'sachs', 'tech', 'departures', 'could', 'early', 'si', 'goldman', 'sachs', 'laporta', 'tomorrow', 'cpi', 'estimates', 'tomorrow', 'credit', 'suisse', 'barclays', 'scotiabank', 'nomura', 'bmo', 'cibc', 'bank', 'america', 'cpi', 'estimates', 'today', 'release', 'barclays', 'credit', 'suisse', 'bank', 'america', 'bmo', 'cibc', 'goldman', 'sachs', 'cpi', 'estimates', 'tomorrow', 'credit', 'suisse', 'barclays', 'scotiabank', 'nomura', 'bmo', 'cibc', 'bank', 'america', 'cpi', 'estimates', 'october', 'credit', 'suisse', 'barclays', 'scotiabank', 'nomura', 'bmo', 'cibc', 'europe', 'falls', 'recession', 'russia', 'climbing', 'per', 'goldman', 'sachs', 'results', 'hour', 'banks', 'reckon', 'barclays', 'credit', 'suisse', 'bank', 'america', 'cibc', 'goldman', 'sac', 'cpi', 'estimates', 'october', 'credit', 'suisse', 'barclays', 'scotiabank', 'nomura', 'bm', 'laporta', 'amp', 'co', 'goldman', 'sachs', 'goldman', 'sachs', 'laporta', 'tomorrow', 'end', 'day', 'aoc', 'green', 'new', 'deal', 'greta', 'thunberg', 'de', 'fossilize', 'goldman', 'sachs', 'laporta', 'tomorrow', 'cpi', 'estimates', 'october', 'credit', 'suisse', 'barclays', 'scotiabank', 'nomura', 'bmo', 'cibc', 'results', 'minutes', 'banks', 'calling', 'barclays', 'credit', 'suisse', 'bank', 'america', 'cibc', 'gold', 'great', 'uk', 'plc', 'sale', 'results', 'minutes', 'banks', 'calling', 'barclays', 'credit', 'suisse', 'bank', 'america', 'cibc', 'students', 'short', 'term', 'anxious', 'long', 'term', 'confident', 'importantly', 'breaking', 'news', 'goldman', 'sachs', 'research', 'best', 'crypto', 'recommendation', 'dik', 'johnrentoul', 'nancijeanw', 'disclosetv', 'cbseveningnews', 'jakluge', 'finalbarsctv', 'asianstocktradr', 'sentedcruz', 'sprucepointcap', 'aanjuwon', 'fabian', 'vbergen', 'reddogt', 'squawkcnbc', 'squawkcnbc', 'iphone', 'iphone', 'web', 'app', 'android', 'cheap', 'bots', 'done', 'quick', 'web', 'app', 'ifttt', 'iphone', 'iphone', 'android', 'dlvr', 'iphone', 'web', 'app', 'android', 'android', 'iphone', 'android', 'iphone', 'iphone', 'android', 'web', 'app', 'android', 'android', 'iphone', 'web', 'app', 'android', 'web', 'app', 'web', 'app', 'iphone', 'iphone', 'android', 'iphone', 'socialflow', 'iphone', 'web', 'app', 'iphone', 'web', 'app', 'iphone', 'iphone', 'android', 'android', 'android', 'android', 'iphone', 'iphone', 'web', 'app', 'iphone', 'iphone', 'android', 'web', 'app', 'iphone', 'android', 'android', 'iphone', 'web', 'app', 'iphone', 'android', 'iphone', 'android', 'android', 'ifttt', 'iphone', 'android', 'android', 'iphone', 'android', 'iphone', 'android', 'iphone', 'web', 'app', 'iphone', 'iphone', 'android', 'android', 'android', 'iphone', 'iphone', 'android', 'iphone', 'iphone', 'buffer', 'android', 'web', 'app', 'iphone', 'web', 'app', 'web', 'app', 'web', 'app', 'iphone', 'iphone', 'web', 'app', 'web', 'app', 'web', 'app', 'iphone', 'android', 'iphone', 'web', 'app', 'iphone', 'web', 'app', 'android', 'tweetdeck', 'iphone', 'web', 'app', 'web', 'app', 'web', 'app', 'android', 'iphone', 'iphone', 'android', 'web', 'app', 'web', 'app', 'iphone', 'android', 'android', 'web', 'app', 'iphone', 'iphone', 'android', 'android', 'iphone', 'android', 'iphone', 'android', 'iphone', 'android', 'iphone', 'android', 'android', 'android', 'web', 'app', 'iphone', 'android', 'iphone', 'cheap', 'bots', 'done', 'quick', 'iphone', 'ydmu', 'oatest', 'web', 'app', 'android', 'iphone', 'iphone', 'iphone', 'android', 'web', 'app', 'iphone', 'android', 'android', 'iphone', 'ipad', 'android', 'android', 'android', 'android', 'android', 'android', 'jarvisalerts', 'com', 'jarvisalerts', 'com', 'jarvisalerts', 'com', 'jarvisalerts', 'com', 'jarvisalerts', 'com', 'jarvisalerts', 'com', 'jarvisalerts', 'com', 'jarvisalerts', 'com', 'jarvisalerts', 'com', 'jarvisalerts', 'com', 'jarvisalerts', 'com', 'android', 'android', 'dlvr', 'iphone', 'iphone', 'android', 'iphone', 'android', 'cheap', 'bots', 'done', 'quick', 'sprout', 'social', 'metanewsapp', 'sprout', 'social', 'sprout', 'social', 'android', 'android', 'dlvr', 'dlvr', 'dlvr', 'iphone', 'web', 'app', 'iphone', 'iphone', 'web', 'app', 'android', 'iphone', 'web', 'app', 'android', 'web', 'app', 'web', 'app', 'android', 'web', 'app', 'web', 'app', 'web', 'app', 'web', 'app', 'iphone', 'web', 'app', 'daviestobiloba', 'ashakur', 'shangzhai', 'skivermaciver', 'goldmansachbot', 'furio', 'az', 'piqcommentary', 'susannah', 'buharisnk', 'oruthanthonniya', 'entrerevolution', 'kingvalentinei', 'justinn', 'yvan', 'tchango', 'cirezb', 'souoseupai', 'greggioffredo', 'mark', 'meazza', 'fdavid', 'mmiv', 'alejandrotirad', 'christi', 'jdp', 'utdchibbie', 'kinginthewali', 'temujintrillyon', 'mastermind', 'orgetorix', 'uchiwz', 'beginingalyan', 'klaustweets', 'finplan', 'katarina', 'vividalerts', 'tripeptid', 'nezuminochutaro', 'cfambaibk', 'zscufy', 'drginovili', 'xavierfreitas', 'dancdo', 'levski', 'breogan', 'anthonyagneroh', 'trader', 'nix', 'noden', 'elseanawy', 'kweffadon', 'paulhug', 'paredes', 'cryptolatinobtc', 'mrkwakuofficial', 'theobesteman', 'terryfmadrid', 'franktrades', 'shannon', 'gbz', 'raphinha', 'fan', 'el', 'waalo', 'swiftsasset', 'us', 'hiredinny', 'rufaia', 'dancdo', 'ms', 'psgcofi', 'manmazcon', 'rickc', 'budakskripto', 'judahrhodie', 'bitcoinusa', 'areeyepee', 'dabarroness', 'sinnerbond', 'themighty', 'one', 'dior', 'cfc', 'idk', 'youngj', 'yeahforeal', 'aurora', 'ventures', 'kacrypto', 'margzilla', 'qmuleconomics', 'junhopatrice', 'ryanadams', 'juanjesusmontoy', 'grayhughes', 'fzatni', 'skyknig', 'isthereclarity', 'lucioquincioc', 'sameoldrob', 'satoshisanto', 'mecaguenbuda', 'mynameiswhatnot', 'cryptoland', 'splerv', 'cryptoscreendai', 'mrsvippat', 'misteriozan', 'sherlorkholmez', 'kathylienfx', 'michelleclarkb', 'lr', 'nt', 'fifosatoshi', 'kevinhughes', 'suman', 'wdmorgan', 'endlessm', 'santjog', 'xavoid', 'sprucepointcap', 'koptionsyolo', 'sbb', 'githuamunene', 'franped', 'anjaliramancap', 'itsluvuyo', 'oro', 'satjapan', 'julitoperez', 'imanijanette', 'js', 'investinyou', 'aaron', 'hackett', 'za', 'ovo', 'levi', 'colbybriant', 'ke', 'shivshi', 'bullishbenn', 'xiyi', 'salmons', 'jr', 'aanjuwon', 'le', 'grin', 'grin', 'stephfinebot', 'pedrofurlong', 'ydmu', 'markets', 'bibimbap', 'amnxngh', 'palominos', 'debonis', 'eric', 'doublej', 'luv', 'blazeinvesting', 'actualminuteman', 'deepakmodi', 'marketbell', 'pod', 'daniferrer', 'anida', 'syahla', 'alpsalih', 'investingvector', 'mercyandtruth', 'investingcom', 'amos', 'kaka', 'bahibrah', 'jessecoheninv', 'jarvis', 'alerts', 'jarvis', 'alerts', 'jarvis', 'alerts', 'jarvis', 'alerts', 'jarvis', 'alerts', 'jarvis', 'alerts', 'jarvis', 'alerts', 'jarvis', 'alerts', 'jarvis', 'alerts', 'jarvis', 'alerts', 'jarvis', 'alerts', 'randytarnowski', 'tshepo', 'ss', 'sportscircusint', 'mathew', 'billion', 'bnearnb', 'liberlion', 'kode', 'r', 'ade', 'lamina', 'goldmansachbot', 'efc', 'usa', 'bigtech', 'news', 'efc', 'uk', 'efc', 'global', 'spear', 'fang', 'momoyan', 'theluckyman', 'tellmetimes', 'artvandelay', 'lakraz', 'feelsbirdman', 'truecrryptto', 'gurgavin', 'catskillfishing', 'chronology', 'btse', 'official', 'catskillfishing', 'arun', 'mufc', 'yass', 'bobmoody', 'vzlarm', 'catskillfishing', 'hdatchy', 'ukshareholders', 'capital', 'scottbordenlpc', 'bitbotics']\n"
     ]
    },
    {
     "name": "stderr",
     "output_type": "stream",
     "text": [
      "[nltk_data] Downloading package stopwords to\n",
      "[nltk_data]     /Users/cynthiang/nltk_data...\n",
      "[nltk_data]   Package stopwords is already up-to-date!\n"
     ]
    }
   ],
   "source": [
    "## STOP WORDS\n",
    "\n",
    "# Set stopwords\n",
    "nltk.download('stopwords')\n",
    "stop_words = set(stopwords.words('english'))\n",
    "new_stopwords = [\"false\", \"na\", \"true\", \"href\", \"rt\", \"twitter\", \"rel\", \"nofollow\", \"rr\", \"x\"] # add tweets-specific stopwords\n",
    "stop_words = nltk.corpus.stopwords.words('english') \n",
    "stop_words.extend(new_stopwords)\n",
    "print(stop_words)\n",
    "\n",
    "# Filter stopwords\n",
    "filtered_temp = [w for w in temp if not w.lower() in stop_words]\n",
    "  \n",
    "filtered_temp = []\n",
    "\n",
    "for w in temp:\n",
    "    if w not in stop_words:\n",
    "        filtered_temp.append(w)\n",
    "\n",
    "print(filtered_temp)"
   ]
  },
  {
   "cell_type": "code",
   "execution_count": 4,
   "id": "a322a7fa",
   "metadata": {},
   "outputs": [
    {
     "name": "stdout",
     "output_type": "stream",
     "text": [
      "<class 'scipy.sparse.csr.csr_matrix'>\n"
     ]
    }
   ],
   "source": [
    "# ## Count vectorizer\n",
    "\n",
    "# Initialize count vectorizer\n",
    "vectorizer=CountVectorizer()   \n",
    "\n",
    "# Run count vectorizer\n",
    "Xs  =  vectorizer.fit_transform(filtered_temp)   \n",
    "print(type(Xs))"
   ]
  },
  {
   "cell_type": "code",
   "execution_count": 5,
   "id": "20958117",
   "metadata": {},
   "outputs": [
    {
     "name": "stdout",
     "output_type": "stream",
     "text": [
      "vocabulary =  {'goldman': 204, 'sachs': 435, 'laporta': 292, 'tomorrow': 523, 'leader': 296, 'like': 304, 'financial': 173, 'big': 50, 'sharks': 462, 'deal': 124, 'dictator': 128, 'wang': 554, 'qishan': 406, 'girlfriend': 194, 'gao': 187, 'yanyan': 566, 'sit': 471, 'apologies': 25, 'sir': 470, 'john': 263, 'good': 206, 'former': 176, 'minister': 339, 'successful': 496, 'city': 93, 'figure': 171, 'morgan': 349, 'stanley': 489, 'ms': 354, 'surprised': 501, 'market': 322, 'result': 424, 'changed': 87, 'rating': 412, 'hold': 232, 'stanle': 488, 'ipo': 253, 'billion': 52, 'piloting': 391, 'portfolio': 397, 'volatile': 551, 'markets': 324, 'via': 547, 'uk': 535, 'property': 403, 'values': 543, 'could': 106, 'fall': 161, 'government': 209, 'mini': 338, 'budget': 68, 'last': 294, 'month': 347, 'led': 297, 'steep': 492, 'rise': 428, 'borrowing': 62, 'costs': 105, 'outdoorsy': 383, 'announces': 20, 'milestone': 336, 'company': 99, 'ceo': 84, 'receives': 414, 'entrepreneur': 150, 'award': 36, 'summit': 499, 'pr': 399, 'newswire': 365, 'sept': 457, 'cpi': 109, 'estimates': 155, 'credit': 111, 'suisse': 497, 'barclays': 44, 'bank': 40, 'america': 11, 'jp': 265, 'mo': 343, 'warning': 556, 'came': 79, 'january': 257, 'news': 364, 'biden': 49, 'mean': 329, 'higher': 228, 'oil': 376, 'prices': 402, 'macron': 313, 'scotia': 447, 'nomura': 370, 'bmo': 58, 'cibc': 91, 'bofa': 61, 'gets': 193, 'million': 337, 'national': 361, 'banking': 41, 'violations': 549, 'make': 316, 'sense': 455, 'hydrogen': 235, 'generation': 190, 'grow': 216, 'trillion': 528, 'per': 390, 'year': 570, 'almost': 9, 'everyone': 157, 'point': 396, 'going': 201, 'give': 196, 'one': 377, 'dream': 136, 'sacrifice': 436, 'scenarios': 446, 'amp': 15, 'loses': 308, 'gains': 186, 'scotiabank': 448, 'shall': 459, 'sanctioned': 441, 'american': 12, 'gov': 208, 'soon': 476, 'publicly': 405, 'giving': 198, 'positive': 398, 'view': 548, 'russian': 432, 'trend': 527, 'continues': 101, 'felt': 169, 'well': 559, 'let': 299, 'see': 452, 'initial': 242, 'bar': 43, 'next': 366, 'day': 122, 'seems': 453, 'ink': 244, 'morga': 348, 'united': 537, 'states': 491, 'jobs': 262, 'hiring': 231, 'sales': 438, 'manager': 318, 'tennex': 512, 'legal': 298, 'hiredinny': 230, 'apply': 27, 'gt': 218, 'abo': 2, 'urrent': 539, 'activity': 3, 'indicator': 241, 'gives': 197, 'countries': 107, 'economies': 140, 'farin': 166, 'ser': 458, 'please': 394, 'ex': 158, 'head': 226, 'hedge': 227, 'funds': 183, 'cool': 102, 'kayne': 278, 'know': 284, 'made': 314, 'fortune': 177, 'gensler': 192, 'goldma': 203, 'sounds': 477, 'alarm': 6, 'commercial': 98, 'results': 425, 'hour': 233, 'banks': 42, 'reckon': 417, 'sac': 434, 'minutes': 340, 'calling': 77, 'gold': 202, 'would': 562, 'worse': 561, 'surprise': 500, 'tell': 509, 'us': 540, 'harvard': 224, 'education': 141, 'marriage': 325, 'inves': 246, 'estimated': 154, 'gs': 217, 'analyst': 16, 'maintains': 315, 'relmada': 421, 'therapeutics': 519, 'nasdaq': 360, 'rlmd': 429, 'buy': 74, 'raises': 409, 'price': 401, 'target': 506, 'fro': 182, 'happened': 223, 'call': 76, 'april': 28, 'th': 515, 'generac': 189, 'gnrc': 200, 'maker': 317, 'backup': 38, 'generators': 191, 'energy': 149, 'core': 103, 'mom': 345, 'yoy': 572, 'elon': 144, 'musk': 357, 'wants': 555, 'start': 490, 'family': 163, 'happen': 222, 'pregnant': 400, 'moves': 351, 'tj': 521, 'max': 328, 'options': 378, 'ratio': 413, 'expiry': 159, 'date': 120, 'oct': 373, 'traded': 525, 'largest': 293, 'increase': 240, 'asks': 34, 'biotech': 53, 'research': 423, 'report': 422, 'curing': 116, 'patients': 387, 'sustainable': 503, 'business': 73, 'model': 344, 'wlk': 560, 'initiates': 243, 'coverage': 108, 'neutral': 362, 'sign': 467, 'free': 181, 'beta': 47, 'ver': 546, 'unvr': 538, 'lyb': 312, 'sell': 454, 'lin': 305, 'kro': 287, 'hun': 234, 'esi': 153, 'emn': 146, 'dow': 135, 'cc': 83, 'apd': 24, 'students': 495, 'short': 465, 'term': 513, 'anxious': 22, 'long': 306, 'confident': 100, 'importantly': 239, 'tech': 508, 'firms': 175, 'top': 524, 'landing': 291, 'spot': 482, 'recent': 415, 'departures': 127, 'early': 138, 'si': 466, 'retail': 426, 'investors': 250, 'moved': 350, 'buying': 75, 'single': 468, 'stocks': 494, 'calls': 78, 'spx': 485, 'bullish': 71, 'earnings': 139, 'seaso': 450, 'trust': 531, 'lose': 307, 'credibility': 110, 'microsoft': 335, 'corp': 104, 'msft': 355, 'jpmorgan': 266, 'others': 382, 'hire': 229, 'got': 207, 'securities': 451, 'licenses': 303, 'hainan': 221, 'insider': 245, 'today': 522, 'release': 420, 'october': 374, 'europe': 156, 'falls': 162, 'recession': 416, 'russia': 431, 'climbing': 94, 'bm': 57, 'co': 95, 'end': 147, 'aoc': 23, 'green': 212, 'new': 363, 'greta': 214, 'thunberg': 520, 'de': 123, 'fossilize': 178, 'great': 211, 'plc': 393, 'sale': 437, 'breaking': 64, 'best': 46, 'crypto': 112, 'recommendation': 418, 'dik': 129, 'johnrentoul': 264, 'nancijeanw': 359, 'disclosetv': 131, 'cbseveningnews': 82, 'jakluge': 256, 'finalbarsctv': 172, 'asianstocktradr': 33, 'sentedcruz': 456, 'sprucepointcap': 484, 'aanjuwon': 0, 'fabian': 160, 'vbergen': 544, 'reddogt': 419, 'squawkcnbc': 486, 'iphone': 252, 'web': 558, 'app': 26, 'android': 17, 'cheap': 88, 'bots': 63, 'done': 133, 'quick': 408, 'ifttt': 237, 'dlvr': 132, 'socialflow': 475, 'buffer': 69, 'tweetdeck': 533, 'ydmu': 568, 'oatest': 372, 'ipad': 251, 'jarvisalerts': 259, 'com': 97, 'sprout': 483, 'social': 474, 'metanewsapp': 333, 'daviestobiloba': 121, 'ashakur': 32, 'shangzhai': 460, 'skivermaciver': 472, 'goldmansachbot': 205, 'furio': 184, 'az': 37, 'piqcommentary': 392, 'susannah': 502, 'buharisnk': 70, 'oruthanthonniya': 381, 'entrerevolution': 151, 'kingvalentinei': 282, 'justinn': 273, 'yvan': 573, 'tchango': 507, 'cirezb': 92, 'souoseupai': 478, 'greggioffredo': 213, 'mark': 321, 'meazza': 330, 'fdavid': 167, 'mmiv': 342, 'alejandrotirad': 7, 'christi': 89, 'jdp': 260, 'utdchibbie': 542, 'kinginthewali': 281, 'temujintrillyon': 511, 'mastermind': 326, 'orgetorix': 379, 'uchiwz': 534, 'beginingalyan': 45, 'klaustweets': 283, 'finplan': 174, 'katarina': 276, 'vividalerts': 550, 'tripeptid': 529, 'nezuminochutaro': 367, 'cfambaibk': 85, 'zscufy': 575, 'drginovili': 137, 'xavierfreitas': 563, 'dancdo': 118, 'levski': 301, 'breogan': 65, 'anthonyagneroh': 21, 'trader': 526, 'nix': 368, 'noden': 369, 'elseanawy': 145, 'kweffadon': 288, 'paulhug': 388, 'paredes': 386, 'cryptolatinobtc': 114, 'mrkwakuofficial': 352, 'theobesteman': 518, 'terryfmadrid': 514, 'franktrades': 179, 'shannon': 461, 'gbz': 188, 'raphinha': 411, 'fan': 164, 'el': 143, 'waalo': 553, 'swiftsasset': 504, 'rufaia': 430, 'psgcofi': 404, 'manmazcon': 319, 'rickc': 427, 'budakskripto': 67, 'judahrhodie': 270, 'bitcoinusa': 55, 'areeyepee': 29, 'dabarroness': 117, 'sinnerbond': 469, 'themighty': 517, 'dior': 130, 'cfc': 86, 'idk': 236, 'youngj': 571, 'yeahforeal': 569, 'aurora': 35, 'ventures': 545, 'kacrypto': 274, 'margzilla': 320, 'qmuleconomics': 407, 'junhopatrice': 272, 'ryanadams': 433, 'juanjesusmontoy': 269, 'grayhughes': 210, 'fzatni': 185, 'skyknig': 473, 'isthereclarity': 254, 'lucioquincioc': 310, 'sameoldrob': 440, 'satoshisanto': 444, 'mecaguenbuda': 331, 'mynameiswhatnot': 358, 'cryptoland': 113, 'splerv': 480, 'cryptoscreendai': 115, 'mrsvippat': 353, 'misteriozan': 341, 'sherlorkholmez': 463, 'kathylienfx': 277, 'michelleclarkb': 334, 'lr': 309, 'nt': 371, 'fifosatoshi': 170, 'kevinhughes': 280, 'suman': 498, 'wdmorgan': 557, 'endlessm': 148, 'santjog': 442, 'xavoid': 564, 'koptionsyolo': 286, 'sbb': 445, 'githuamunene': 195, 'franped': 180, 'anjaliramancap': 19, 'itsluvuyo': 255, 'oro': 380, 'satjapan': 443, 'julitoperez': 271, 'imanijanette': 238, 'js': 268, 'investinyou': 249, 'aaron': 1, 'hackett': 220, 'za': 574, 'ovo': 384, 'levi': 300, 'colbybriant': 96, 'ke': 279, 'shivshi': 464, 'bullishbenn': 72, 'xiyi': 565, 'salmons': 439, 'jr': 267, 'le': 295, 'grin': 215, 'stephfinebot': 493, 'pedrofurlong': 389, 'bibimbap': 48, 'amnxngh': 13, 'palominos': 385, 'debonis': 125, 'eric': 152, 'doublej': 134, 'luv': 311, 'blazeinvesting': 56, 'actualminuteman': 4, 'deepakmodi': 126, 'marketbell': 323, 'pod': 395, 'daniferrer': 119, 'anida': 18, 'syahla': 505, 'alpsalih': 10, 'investingvector': 248, 'mercyandtruth': 332, 'investingcom': 247, 'amos': 14, 'kaka': 275, 'bahibrah': 39, 'jessecoheninv': 261, 'jarvis': 258, 'alerts': 8, 'randytarnowski': 410, 'tshepo': 532, 'ss': 487, 'sportscircusint': 481, 'mathew': 327, 'bnearnb': 59, 'liberlion': 302, 'kode': 285, 'ade': 5, 'lamina': 290, 'efc': 142, 'usa': 541, 'bigtech': 51, 'global': 199, 'spear': 479, 'fang': 165, 'momoyan': 346, 'theluckyman': 516, 'tellmetimes': 510, 'artvandelay': 30, 'lakraz': 289, 'feelsbirdman': 168, 'truecrryptto': 530, 'gurgavin': 219, 'catskillfishing': 81, 'chronology': 90, 'btse': 66, 'official': 375, 'arun': 31, 'mufc': 356, 'yass': 567, 'bobmoody': 60, 'vzlarm': 552, 'hdatchy': 225, 'ukshareholders': 536, 'capital': 80, 'scottbordenlpc': 449, 'bitbotics': 54}\n"
     ]
    }
   ],
   "source": [
    "## EXPLORE THE OBJECT ATTRIBUTES \n",
    "\n",
    "# # View vocabulary dictionary\n",
    "print(\"vocabulary = \",vectorizer.vocabulary_)\n",
    "\n",
    "# col_names\n",
    "col_names=vectorizer.get_feature_names_out()"
   ]
  },
  {
   "cell_type": "code",
   "execution_count": 93,
   "id": "a4d21bd2",
   "metadata": {},
   "outputs": [],
   "source": [
    "## SAVE\n",
    "full_path = os.path.realpath(\"cleaning_py.ipynb\")\n",
    "path, filename = os.path.split(full_path)\n",
    "os.chdir(path)\n",
    "os.chdir('../data')\n",
    "with open('cleaned_goldman_sachs_tweets.txt', 'w') as f:\n",
    "    f.write('\\n'.join(filtered_temp))"
   ]
  }
 ],
 "metadata": {
  "kernelspec": {
   "display_name": "Python 3.10.4 ('class')",
   "language": "python",
   "name": "python3"
  },
  "language_info": {
   "codemirror_mode": {
    "name": "ipython",
    "version": 3
   },
   "file_extension": ".py",
   "mimetype": "text/x-python",
   "name": "python",
   "nbconvert_exporter": "python",
   "pygments_lexer": "ipython3",
   "version": "3.10.4"
  },
  "vscode": {
   "interpreter": {
    "hash": "15746aa1dcf7a2a78475ba9215d3f8835d2f92e9634eaaa8b18bbade37f57527"
   }
  }
 },
 "nbformat": 4,
 "nbformat_minor": 5
}
