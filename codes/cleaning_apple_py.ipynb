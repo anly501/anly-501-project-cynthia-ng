{
 "cells": [
  {
   "cell_type": "code",
   "execution_count": 6,
   "metadata": {},
   "outputs": [],
   "source": [
    "# Import libraries\n",
    "import os\n",
    "from sklearn.feature_extraction.text import CountVectorizer\n",
    "import nltk\n",
    "from nltk.corpus import stopwords\n",
    "from nltk.tokenize import word_tokenize\n",
    "import seaborn as sns\n",
    "import matplotlib.pyplot as plt\n",
    "import re\n",
    "from nltk.stem import WordNetLemmatizer\n",
    "import csv\n",
    "\n",
    "# Open file and save as corpus\n",
    "full_path = os.path.realpath(\"cleaning_apple_py.ipynb\")\n",
    "path, filename = os.path.split(full_path)\n",
    "os.chdir(path)\n",
    "os.chdir('../data')\n",
    "with open(\"AppleTweets.txt\", \"r\", encoding='utf-8-sig') as f:\n",
    "    string = f.read()"
   ]
  },
  {
   "cell_type": "code",
   "execution_count": 7,
   "metadata": {},
   "outputs": [
    {
     "name": "stdout",
     "output_type": "stream",
     "text": [
      "['i', 'me', 'my', 'myself', 'we', 'our', 'ours', 'ourselves', 'you', \"you're\", \"you've\", \"you'll\", \"you'd\", 'your', 'yours', 'yourself', 'yourselves', 'he', 'him', 'his', 'himself', 'she', \"she's\", 'her', 'hers', 'herself', 'it', \"it's\", 'its', 'itself', 'they', 'them', 'their', 'theirs', 'themselves', 'what', 'which', 'who', 'whom', 'this', 'that', \"that'll\", 'these', 'those', 'am', 'is', 'are', 'was', 'were', 'be', 'been', 'being', 'have', 'has', 'had', 'having', 'do', 'does', 'did', 'doing', 'a', 'an', 'the', 'and', 'but', 'if', 'or', 'because', 'as', 'until', 'while', 'of', 'at', 'by', 'for', 'with', 'about', 'against', 'between', 'into', 'through', 'during', 'before', 'after', 'above', 'below', 'to', 'from', 'up', 'down', 'in', 'out', 'on', 'off', 'over', 'under', 'again', 'further', 'then', 'once', 'here', 'there', 'when', 'where', 'why', 'how', 'all', 'any', 'both', 'each', 'few', 'more', 'most', 'other', 'some', 'such', 'no', 'nor', 'not', 'only', 'own', 'same', 'so', 'than', 'too', 'very', 's', 't', 'can', 'will', 'just', 'don', \"don't\", 'should', \"should've\", 'now', 'd', 'll', 'm', 'o', 're', 've', 'y', 'ain', 'aren', \"aren't\", 'couldn', \"couldn't\", 'didn', \"didn't\", 'doesn', \"doesn't\", 'hadn', \"hadn't\", 'hasn', \"hasn't\", 'haven', \"haven't\", 'isn', \"isn't\", 'ma', 'mightn', \"mightn't\", 'mustn', \"mustn't\", 'needn', \"needn't\", 'shan', \"shan't\", 'shouldn', \"shouldn't\", 'wasn', \"wasn't\", 'weren', \"weren't\", 'won', \"won't\", 'wouldn', \"wouldn't\", 'false', 'na', 'true', 'href', 'rt', 'twitter', 'rel', 'nofollow', 'rr', 'x']\n",
      "['emails', 'want', 'something', 'must', 'approach', 'slowly', 'calmly', 'piece', 'apple', 'carrot', 'apple', 'key', 'social', 'security', 'benefits', 'rise', 'percent', 'washington', 'chris', 'amp', 'back', 'fall', 'apple', 'cider', 'like', 'report', 'made', 'trump', 'podcast', 'good', 'morning', 'miss', 'apple', 'time', 'year', 'amp', 'days', 'amp', 'great', 'williams', 'report', 'new', 'check', 'discuss', 'earn', 'app', 'would', 'like', 'pro', 'joe', 'mo', 'thick', 'thin', 'everyone', 'needs', 'count', 'democratic', 'party', 'joined', 'exist', 'anymore', 'today', 'dem', 'party', 'complete', 'control', 'elitist', 'c', 'confirm', 'ios', 'communicate', 'apple', 'services', 'outside', 'active', 'vpn', 'tunnel', 'worse', 'leaks', 'dns', 'requests', 'song', 'apple', 'music', 'says', 'trudeau', 'needs', 'love', 'year', 'olds', 'claim', 'doms', 'like', 'sure', 'ya', 'sport', 'let', 'get', 'apple', 'juice', 'democratic', 'party', 'joined', 'exist', 'anymore', 'today', 'dem', 'party', 'complete', 'control', 'elitist', 'c', 'year', 'treasury', 'yield', 'jumps', 'back', 'cpi', 'tops', 'expectations', 'thing', 'apple', 'even', 'phone', 'apple', 'get', 'apple', 'music', 'free', 'apple', 'genesis', 'realm', 'giving', 'away', 'wl', 'enter', 'follow', 'amp', 'amp', 'democratic', 'party', 'joined', 'exist', 'anymore', 'today', 'dem', 'party', 'complete', 'control', 'elitist', 'c', 'chart', 'show', 'mark', 'every', 'years', 'run', 'almost', 'class', 'lost', 'disney', 'pro', 'apple', 'music', 'netflix', 'youtube', 'spotify', 'go', 'dan', 'problem', 'three', 'apples', 'really', 'problem', 'apple', 'mark', 'calendars', 'make', 'sure', 'sign', 'download', 'ios', 'app', 'kombucha', 'mix', 'apple', 'little', 'kombucha', 'mix', 'animal', 'world', 'amp', 'designed', 'alum', 'former', 'execs', 'project', 'watch', 'join', 'guardian', 'apple', 'ryan', 'first', 'trailer', 'apple', 'raise', 'voice', 'unemployed', 'talking', 'malnourished', 'children', 'get', 'fair', 'price', 'apple', 'farmers', 'apple', 'disney', 'st', 'key', 'points', 'james', 'reid', 'lovescene', 'remember', 'guy', 'trump', 'apple', 'phone', 'lovescene', 'tracks', 'top', 'itunes', 'philippines', 'songs', 'chart', 'james', 'reid', 'l', 'apple', 'genesis', 'realm', 'giving', 'away', 'wl', 'enter', 'follow', 'amp', 'amp', 'year', 'treasury', 'yield', 'jumps', 'back', 'cpi', 'tops', 'expectations', 'believe', 'government', 'people', 'today', 'democratic', 'party', 'government', 'apple', 'giving', 'away', 'wl', 'enter', 'follow', 'amp', 'amp', 'premier', 'league', 'premier', 'league', 'apple', 'got', 'good', 'tech', 'ideas', 'lovescene', 'tracks', 'top', 'itunes', 'philippines', 'songs', 'chart', 'james', 'reid', 'l', 'still', 'news', 'check', 'blue', 'ready', 'get', 'great', 'back', 'iphone', 'blue', 'link', 'democratic', 'party', 'joined', 'exist', 'anymore', 'today', 'dem', 'party', 'complete', 'control', 'elitist', 'c', 'social', 'apple', 'app', 'store', 'raise', 'voice', 'unemployed', 'talking', 'malnourished', 'children', 'get', 'fair', 'price', 'apple', 'farmers', 'even', 'worse', 'condition', 'apple', 'pie', 'butter', 'thick', 'thin', 'everyone', 'needs', 'count', 'emails', 'want', 'something', 'must', 'approach', 'slowly', 'calmly', 'piece', 'apple', 'carrot', 'hired', 'former', 'executive', 'producer', 'worldwide', 'events', 'prior', 'creative', 'ops', 'apple', 'watch', 'new', 'apple', 'certain', 'stuff', 'tolerate', 'cause', 'apple', 'music', 'listen', 'latest', 'episode', 'discuss', 'apple', 'store', 'apple', 'music', 'real', 'time', 'k', 'pop', 'top', 'yet', 'come', 'butter', 'run', 'bts', 'class', 'really', 'would', 'change', 'back', 'get', 'apple', 'need', 'week', 'high', 'stable', 'rank', 'st', 'week', 'widen', 'gap', 'yt', 'currently', 'best', 'emoji', 'apple', 'ever', 'made', 'morning', 'keep', 'streaming', 'spotify', 'youtube', 'apple', 'music', 'want', 'would', 'people', 'live', 'make', 'global', 'k', 'pop', 'chart', 'points', 'got', 'amp', 'one', 'democratic', 'party', 'joined', 'exist', 'anymore', 'today', 'dem', 'party', 'complete', 'control', 'elitist', 'c', 'people', 'must', 'apple', 'apple', 'music', 'sign', 'link', 'love', 'year', 'olds', 'claim', 'doms', 'like', 'sure', 'ya', 'sport', 'let', 'get', 'apple', 'juice', 'apple', 'new', 'new', 'democratic', 'party', 'joined', 'exist', 'anymore', 'today', 'dem', 'party', 'complete', 'control', 'elitist', 'c', 'apple', 'guardian', 'week', 'tracking', 'leading', 'sns', 'need', 'increase', 'digitals', 'stream', 'spotify', 'apple', 'musi', 'ideas', 'apple', 'free', 'week', 'apples', 'grow', 'pick', 'got', 'apple', 'netflix', 'etc', 'etc', 'apple', 'gross', 'profit', 'billion', 'increase', 'yet', 'multi', 'billion', 'dollar', 'corporation', 'wi', 'year', 'need', 'week', 'high', 'stable', 'rank', 'st', 'week', 'widen', 'gap', 'yt', 'currently', 'week', 'tracking', 'leading', 'sns', 'need', 'increase', 'digitals', 'stream', 'spotify', 'apple', 'musi', 'guy', 'ryan', 'great', 'start', 'points', 'year', 'away', 'happened', 'song', 'democratic', 'party', 'joined', 'exist', 'anymore', 'today', 'dem', 'party', 'complete', 'control', 'elitist', 'c', 'little', 'guy', 'music', 'pick', 'today', 'school', 'democratic', 'party', 'joined', 'exist', 'anymore', 'today', 'dem', 'party', 'complete', 'control', 'elitist', 'c', 'apple', 'week', 'bad', 'never', 'check', 'latest', 'episode', 'podcast', 'episode', 'talk', 'apple', 'great', 'condition', 'keep', 'school', 'billion', 'certain', 'stuff', 'tolerate', 'cause', 'apple', 'music', 'apple', 'many', 'check', 'app', 'app', 'news', 'dan', 'snyder', 'fight', 'keep', 'washington', 'commanders', 'snyder', 'blue', 'getting', 'apple', 'yo', 'yo', 'much', 'never', 'g', 'democratic', 'party', 'joined', 'exist', 'anymore', 'today', 'dem', 'party', 'complete', 'control', 'elitist', 'c', 'world', 'new', 'trailer', 'democratic', 'party', 'joined', 'exist', 'anymore', 'today', 'dem', 'party', 'complete', 'control', 'elitist', 'c', 'apple', 'genesis', 'realm', 'giving', 'away', 'wl', 'enter', 'follow', 'amp', 'amp', 'apple', 'talk', 'design', 'design', 'apple', 'gross', 'profit', 'billion', 'increase', 'yet', 'multi', 'billion', 'dollar', 'corporation', 'wi', 'apple', 'new', 'amp', 'one', 'one', 'apple', 'mark', 'calendars', 'make', 'sure', 'sign', 'download', 'ios', 'app', 'apple', 'cider', 'really', 'start', 'love', 'live', 'new', 'come', 'pro', 'make', 'love', 'song', 'listen', 'interview', 'edit', 'ums', 'ahs', 'typically', 'everyone', 'else', 'change', 'million', 'social', 'security', 'million', 'thick', 'thin', 'everyone', 'needs', 'count', 'cause', 'many', 'us', 'apple', 'free', 'raise', 'voice', 'unemployed', 'talking', 'malnourished', 'children', 'get', 'fair', 'price', 'apple', 'farmers', 'wait', 'line', 'outside', 'apple', 'store', 'night', 'st', 'line', 'happened', 'last', 'night', 'thick', 'thin', 'everyone', 'needs', 'count', 'k', 'usdt', 'real', 'time', 'years', 'guardian', 'democratic', 'party', 'joined', 'exist', 'anymore', 'today', 'dem', 'party', 'complete', 'control', 'elitist', 'c', 'democratic', 'party', 'joined', 'exist', 'anymore', 'today', 'dem', 'party', 'complete', 'control', 'elitist', 'c', 'listen', 'listen', 'interview', 'edit', 'ums', 'ahs', 'typically', 'everyone', 'else', 'saw', 'make', 'week', 'tracking', 'leading', 'sns', 'need', 'increase', 'digitals', 'stream', 'spotify', 'apple', 'musi', 'one', 'thing', 'apple', 'watch', 'time', 'even', 'getting', 'ready', 'apple', 'genesis', 'realm', 'giving', 'away', 'wl', 'enter', 'follow', 'amp', 'amp', 'almost', 'lost', 'one', 'night', 'saw', 'someone', 'someone', 'democratic', 'party', 'joined', 'exist', 'anymore', 'today', 'dem', 'party', 'complete', 'control', 'elitist', 'c', 'beatles', 'let', 'japan', 'vinyl', 'lp', 'ap', 'apple', 'records', 'excellent', 'price', 'us', 'best', 'offer', 'raise', 'voice', 'unemployed', 'talking', 'malnourished', 'children', 'get', 'fair', 'price', 'apple', 'farmers', 'bts', 'amp', 'three', 'songs', 'days', 'apple', 'global', 'music', 'chart', 'amp', 'let', 'grow', 'download', 'free', 'music', 'app', 'app', 'store', 'apple', 'thick', 'thin', 'everyone', 'needs', 'count', 'miss', 'sign', 'usdt', 'earn', 'free', 'designed', 'alum', 'former', 'execs', 'project', 'watch', 'join', 'stream', 'spotify', 'apple', 'music', 'yt', 'digitals', 'would', 'fight', 'apple', 'music', 'listen', 'spotify', 'apple', 'podcast', 'apple', 'go', 'tsmc', 'getting', 'exemption', 'strict', 'us', 'tech', 'export', 'laws', 'got', 'new', 'apple', 'watch', 'fall', 'golden', 'mo', 'must', 'apple', 'wait', 'love', 'year', 'olds', 'claim', 'doms', 'like', 'sure', 'ya', 'sport', 'let', 'get', 'apple', 'juice', 'says', 'great', 'news', 'still', 'animal', 'jon', 'still', 'never', 'democratic', 'party', 'joined', 'exist', 'anymore', 'today', 'dem', 'party', 'complete', 'control', 'elitist', 'c', 'last', 'time', 'happened', 'dropped', 'year', 'treasury', 'yield', 'jumps', 'back', 'cpi', 'tops', 'great', 'apple', 'us', 'tsmc', 'getting', 'exemption', 'strict', 'us', 'tech', 'export', 'laws', 'certain', 'stuff', 'tolerate', 'cause', 'apple', 'music', 'jon', 'time', 'every', 'trailer', 'go', 'remember', 'need', 'apple', 'music', 'spotify', 'streams', 'count', 'listen', 'dimash', 'music', 'spotify', 'apple', 'music', 'youtube', 'shit', 'talking', 'much', 'shit', 'dropped', 'show', 'ya', 'apple', 'unannounced', 'price', 'unannounced', 'beatles', 'let', 'japan', 'vinyl', 'lp', 'ap', 'apple', 'records', 'excellent', 'price', 'us', 'best', 'offer', 'believe', 'washington', 'commanders', 'amp', 'listen', 'dimash', 'music', 'spotify', 'apple', 'music', 'youtube', 'tonight', 'launching', 'midnight', 'est', 'originals', 'first', 'amp', 'originals', 'drop', 'year', 'choose', 'flavor', 'b', 'democratic', 'party', 'joined', 'exist', 'anymore', 'today', 'dem', 'party', 'complete', 'control', 'elitist', 'c', 'spotify', 'apple', 'spotify', 'apple', 'trudeau', 'million', 'one', 'hired', 'former', 'executive', 'producer', 'worldwide', 'events', 'prior', 'creative', 'ops', 'social', 'security', 'benefits', 'rise', 'percent', 'confirm', 'ios', 'communicate', 'apple', 'services', 'outside', 'active', 'vpn', 'tunnel', 'worse', 'leaks', 'dns', 'requests', 'bad', 'million', 'streams', 'apple', 'music', 'stream', 'democratic', 'party', 'joined', 'exist', 'anymore', 'today', 'dem', 'party', 'complete', 'control', 'elitist', 'c', 'best', 'emoji', 'apple', 'ever', 'made', 'tonight', 'launching', 'midnight', 'est', 'originals', 'first', 'amp', 'originals', 'drop', 'year', 'choose', 'flavor', 'b', 'amandawright', 'zvrapt', 'apple', 'zvrapt', 'iphone', 'android', 'ipad', 'radio', 'android', 'iphone', 'web', 'app', 'web', 'app', 'iphone', 'iphone', 'iphone', 'iphone', 'web', 'app', 'iphone', 'android', 'iphone', 'web', 'app', 'iphone', 'web', 'app', 'iphone', 'android', 'iphone', 'iphone', 'iphone', 'android', 'web', 'app', 'iphone', 'android', 'android', 'iphone', 'web', 'app', 'android', 'web', 'app', 'iphone', 'iphone', 'android', 'android', 'iphone', 'android', 'iphone', 'web', 'app', 'iphone', 'iphone', 'iphone', 'web', 'app', 'iphone', 'iphone', 'iphone', 'android', 'web', 'app', 'web', 'app', 'android', 'iphone', 'web', 'app', 'iphone', 'web', 'app', 'web', 'app', 'web', 'app', 'ifttt', 'android', 'web', 'app', 'iphone', 'web', 'app', 'android', 'web', 'app', 'ipad', 'iphone', 'web', 'app', 'iphone', 'android', 'web', 'app', 'web', 'app', 'iphone', 'android', 'iphone', 'iphone', 'android', 'ipad', 'iphone', 'android', 'iphone', 'ipad', 'iphone', 'web', 'app', 'android', 'iphone', 'iphone', 'iphone', 'iphone', 'cheap', 'bots', 'done', 'quick', 'iphone', 'android', 'dlvr', 'web', 'app', 'iphone', 'android', 'iphone', 'android', 'android', 'iphone', 'dlvr', 'iphone', 'android', 'iphone', 'iphone', 'web', 'app', 'android', 'iphone', 'iphone', 'iphone', 'android', 'iphone', 'iphone', 'iphone', 'android', 'android', 'web', 'app', 'iphone', 'iphone', 'iphone', 'android', 'iphone', 'web', 'app', 'iphone', 'iphone', 'iphone', 'iphone', 'iphone', 'iphone', 'rtitbot', 'android', 'android', 'iphone', 'web', 'app', 'rtitbot', 'coinscreener', 'ai', 'iphone', 'iphone', 'android', 'iphone', 'web', 'app', 'iphone', 'android', 'iphone', 'web', 'app', 'android', 'iphone', 'web', 'app', 'android', 'iphone', 'radio', 'web', 'app', 'android', 'web', 'app', 'android', 'web', 'app', 'android', 'web', 'app', 'web', 'app', 'calcaware', 'iphone', 'cheap', 'bots', 'done', 'quick', 'iphone', 'iphone', 'iphone', 'web', 'app', 'android', 'iphone', 'iphone', 'web', 'app', 'channel', 'iphone', 'web', 'app', 'iphone', 'android', 'android', 'android', 'iphone', 'ifttt', 'web', 'app', 'web', 'app', 'iphone', 'android', 'iphone', 'iphone', 'android', 'iphone', 'android', 'iphone', 'android', 'android', 'android', 'iphone', 'iphone', 'fickle', 'real', 'miles', 'amandawright', 'eth', 'apple', 'g', 'james', 'eth', 'apple', 'williams', 'golden', 'sevadalmys', 'miles', 'xiaosanqiangzo', 'apple', 'apple', 'brontyman', 'fickle', 'real', 'rtitbot', 'sevadalmys', 'rtitbot', 'coinscreener', 'ai', 'brontyman', 'apple', 'pie', 'geoff', 'miles', 'xiaosanqiangzo', 'apple', 'razak', 'calcaware', 'multi', 'streaming', 'apple', 'razak', 'joe', 'channel', 'apple', 'razak', 'nata', 'geoff', 'nata', 'chris']\n"
     ]
    },
    {
     "name": "stderr",
     "output_type": "stream",
     "text": [
      "[nltk_data] Downloading package stopwords to\n",
      "[nltk_data]     /Users/cynthiang/nltk_data...\n",
      "[nltk_data]   Package stopwords is already up-to-date!\n"
     ]
    }
   ],
   "source": [
    "## CLEAN \n",
    "\n",
    "# Lower tweets\n",
    "temp = string.lower()\n",
    "\n",
    "# Remove hashtags and mentions\n",
    "temp = re.sub(\"@[A-Za-z0-9_]+\",\"\", temp)\n",
    "temp = re.sub(\"#[A-Za-z0-9_]+\",\"\", temp)\n",
    "\n",
    "# Remove links\n",
    "temp = re.sub(r\"http\\S+\", \"\", temp)\n",
    "temp = re.sub(r\"www.\\S+\", \"\", temp)\n",
    "\n",
    "# Remove punctuation\n",
    "temp = re.sub('[()!?]', ' ', temp)\n",
    "temp = re.sub('\\[.*?\\]',' ', temp)\n",
    "\n",
    "# Remove non-alpha numbers\n",
    "temp = re.sub(\"[^a-z]\",\" \", temp)\n",
    "\n",
    "# Tokenize tweets\n",
    "temp = temp.split()\n",
    "\n",
    "## STOP WORDS\n",
    "\n",
    "# Set stopwords\n",
    "nltk.download('stopwords')\n",
    "stop_words = set(stopwords.words('english'))\n",
    "new_stopwords = [\"false\", \"na\", \"true\", \"href\", \"rt\", \"twitter\", \"rel\", \"nofollow\", \"rr\", \"x\"] # add tweets-specific stopwords\n",
    "stop_words = nltk.corpus.stopwords.words('english') \n",
    "stop_words.extend(new_stopwords)\n",
    "print(stop_words)\n",
    "\n",
    "# Filter stopwords\n",
    "filtered_temp = [w for w in temp if not w.lower() in stop_words]\n",
    "  \n",
    "# filtered_temp = []\n",
    "\n",
    "# for w in temp:\n",
    "#     if w not in stop_words:\n",
    "#         filtered_temp.append(w)\n",
    "\n",
    "# Filter out words that only occurred once\n",
    "once = [x for x in filtered_temp if filtered_temp.count(x) == 1]\n",
    "for word in list(filtered_temp):  # iterating on a copy since removing will mess things up\n",
    "    if word in once:\n",
    "        filtered_temp.remove(word)\n",
    "\n",
    "print(filtered_temp)"
   ]
  },
  {
   "cell_type": "code",
   "execution_count": 8,
   "metadata": {},
   "outputs": [
    {
     "name": "stderr",
     "output_type": "stream",
     "text": [
      "[nltk_data] Downloading package wordnet to\n",
      "[nltk_data]     /Users/cynthiang/nltk_data...\n",
      "[nltk_data]   Package wordnet is already up-to-date!\n",
      "[nltk_data] Downloading package omw-1.4 to\n",
      "[nltk_data]     /Users/cynthiang/nltk_data...\n",
      "[nltk_data]   Package omw-1.4 is already up-to-date!\n"
     ]
    },
    {
     "name": "stdout",
     "output_type": "stream",
     "text": [
      "['email', 'want', 'something', 'must', 'approach', 'slowly', 'calmly', 'piece', 'apple', 'carrot', 'apple', 'key', 'social', 'security', 'benefit', 'rise', 'percent', 'washington', 'chris', 'amp', 'back', 'fall', 'apple', 'cider', 'like', 'report', 'made', 'trump', 'podcast', 'good', 'morning', 'miss', 'apple', 'time', 'year', 'amp', 'day', 'amp', 'great', 'williams', 'report', 'new', 'check', 'discus', 'earn', 'app', 'would', 'like', 'pro', 'joe', 'mo', 'thick', 'thin', 'everyone', 'need', 'count', 'democratic', 'party', 'joined', 'exist', 'anymore', 'today', 'dem', 'party', 'complete', 'control', 'elitist', 'c', 'confirm', 'io', 'communicate', 'apple', 'service', 'outside', 'active', 'vpn', 'tunnel', 'worse', 'leak', 'dns', 'request', 'song', 'apple', 'music', 'say', 'trudeau', 'need', 'love', 'year', 'old', 'claim', 'doms', 'like', 'sure', 'ya', 'sport', 'let', 'get', 'apple', 'juice', 'democratic', 'party', 'joined', 'exist', 'anymore', 'today', 'dem', 'party', 'complete', 'control', 'elitist', 'c', 'year', 'treasury', 'yield', 'jump', 'back', 'cpi', 'top', 'expectation', 'thing', 'apple', 'even', 'phone', 'apple', 'get', 'apple', 'music', 'free', 'apple', 'genesis', 'realm', 'giving', 'away', 'wl', 'enter', 'follow', 'amp', 'amp', 'democratic', 'party', 'joined', 'exist', 'anymore', 'today', 'dem', 'party', 'complete', 'control', 'elitist', 'c', 'chart', 'show', 'mark', 'every', 'year', 'run', 'almost', 'class', 'lost', 'disney', 'pro', 'apple', 'music', 'netflix', 'youtube', 'spotify', 'go', 'dan', 'problem', 'three', 'apple', 'really', 'problem', 'apple', 'mark', 'calendar', 'make', 'sure', 'sign', 'download', 'io', 'app', 'kombucha', 'mix', 'apple', 'little', 'kombucha', 'mix', 'animal', 'world', 'amp', 'designed', 'alum', 'former', 'exec', 'project', 'watch', 'join', 'guardian', 'apple', 'ryan', 'first', 'trailer', 'apple', 'raise', 'voice', 'unemployed', 'talking', 'malnourished', 'child', 'get', 'fair', 'price', 'apple', 'farmer', 'apple', 'disney', 'st', 'key', 'point', 'james', 'reid', 'lovescene', 'remember', 'guy', 'trump', 'apple', 'phone', 'lovescene', 'track', 'top', 'itunes', 'philippine', 'song', 'chart', 'james', 'reid', 'l', 'apple', 'genesis', 'realm', 'giving', 'away', 'wl', 'enter', 'follow', 'amp', 'amp', 'year', 'treasury', 'yield', 'jump', 'back', 'cpi', 'top', 'expectation', 'believe', 'government', 'people', 'today', 'democratic', 'party', 'government', 'apple', 'giving', 'away', 'wl', 'enter', 'follow', 'amp', 'amp', 'premier', 'league', 'premier', 'league', 'apple', 'got', 'good', 'tech', 'idea', 'lovescene', 'track', 'top', 'itunes', 'philippine', 'song', 'chart', 'james', 'reid', 'l', 'still', 'news', 'check', 'blue', 'ready', 'get', 'great', 'back', 'iphone', 'blue', 'link', 'democratic', 'party', 'joined', 'exist', 'anymore', 'today', 'dem', 'party', 'complete', 'control', 'elitist', 'c', 'social', 'apple', 'app', 'store', 'raise', 'voice', 'unemployed', 'talking', 'malnourished', 'child', 'get', 'fair', 'price', 'apple', 'farmer', 'even', 'worse', 'condition', 'apple', 'pie', 'butter', 'thick', 'thin', 'everyone', 'need', 'count', 'email', 'want', 'something', 'must', 'approach', 'slowly', 'calmly', 'piece', 'apple', 'carrot', 'hired', 'former', 'executive', 'producer', 'worldwide', 'event', 'prior', 'creative', 'ops', 'apple', 'watch', 'new', 'apple', 'certain', 'stuff', 'tolerate', 'cause', 'apple', 'music', 'listen', 'latest', 'episode', 'discus', 'apple', 'store', 'apple', 'music', 'real', 'time', 'k', 'pop', 'top', 'yet', 'come', 'butter', 'run', 'bts', 'class', 'really', 'would', 'change', 'back', 'get', 'apple', 'need', 'week', 'high', 'stable', 'rank', 'st', 'week', 'widen', 'gap', 'yt', 'currently', 'best', 'emoji', 'apple', 'ever', 'made', 'morning', 'keep', 'streaming', 'spotify', 'youtube', 'apple', 'music', 'want', 'would', 'people', 'live', 'make', 'global', 'k', 'pop', 'chart', 'point', 'got', 'amp', 'one', 'democratic', 'party', 'joined', 'exist', 'anymore', 'today', 'dem', 'party', 'complete', 'control', 'elitist', 'c', 'people', 'must', 'apple', 'apple', 'music', 'sign', 'link', 'love', 'year', 'old', 'claim', 'doms', 'like', 'sure', 'ya', 'sport', 'let', 'get', 'apple', 'juice', 'apple', 'new', 'new', 'democratic', 'party', 'joined', 'exist', 'anymore', 'today', 'dem', 'party', 'complete', 'control', 'elitist', 'c', 'apple', 'guardian', 'week', 'tracking', 'leading', 'sn', 'need', 'increase', 'digitals', 'stream', 'spotify', 'apple', 'musi', 'idea', 'apple', 'free', 'week', 'apple', 'grow', 'pick', 'got', 'apple', 'netflix', 'etc', 'etc', 'apple', 'gross', 'profit', 'billion', 'increase', 'yet', 'multi', 'billion', 'dollar', 'corporation', 'wi', 'year', 'need', 'week', 'high', 'stable', 'rank', 'st', 'week', 'widen', 'gap', 'yt', 'currently', 'week', 'tracking', 'leading', 'sn', 'need', 'increase', 'digitals', 'stream', 'spotify', 'apple', 'musi', 'guy', 'ryan', 'great', 'start', 'point', 'year', 'away', 'happened', 'song', 'democratic', 'party', 'joined', 'exist', 'anymore', 'today', 'dem', 'party', 'complete', 'control', 'elitist', 'c', 'little', 'guy', 'music', 'pick', 'today', 'school', 'democratic', 'party', 'joined', 'exist', 'anymore', 'today', 'dem', 'party', 'complete', 'control', 'elitist', 'c', 'apple', 'week', 'bad', 'never', 'check', 'latest', 'episode', 'podcast', 'episode', 'talk', 'apple', 'great', 'condition', 'keep', 'school', 'billion', 'certain', 'stuff', 'tolerate', 'cause', 'apple', 'music', 'apple', 'many', 'check', 'app', 'app', 'news', 'dan', 'snyder', 'fight', 'keep', 'washington', 'commander', 'snyder', 'blue', 'getting', 'apple', 'yo', 'yo', 'much', 'never', 'g', 'democratic', 'party', 'joined', 'exist', 'anymore', 'today', 'dem', 'party', 'complete', 'control', 'elitist', 'c', 'world', 'new', 'trailer', 'democratic', 'party', 'joined', 'exist', 'anymore', 'today', 'dem', 'party', 'complete', 'control', 'elitist', 'c', 'apple', 'genesis', 'realm', 'giving', 'away', 'wl', 'enter', 'follow', 'amp', 'amp', 'apple', 'talk', 'design', 'design', 'apple', 'gross', 'profit', 'billion', 'increase', 'yet', 'multi', 'billion', 'dollar', 'corporation', 'wi', 'apple', 'new', 'amp', 'one', 'one', 'apple', 'mark', 'calendar', 'make', 'sure', 'sign', 'download', 'io', 'app', 'apple', 'cider', 'really', 'start', 'love', 'live', 'new', 'come', 'pro', 'make', 'love', 'song', 'listen', 'interview', 'edit', 'ums', 'ahs', 'typically', 'everyone', 'else', 'change', 'million', 'social', 'security', 'million', 'thick', 'thin', 'everyone', 'need', 'count', 'cause', 'many', 'u', 'apple', 'free', 'raise', 'voice', 'unemployed', 'talking', 'malnourished', 'child', 'get', 'fair', 'price', 'apple', 'farmer', 'wait', 'line', 'outside', 'apple', 'store', 'night', 'st', 'line', 'happened', 'last', 'night', 'thick', 'thin', 'everyone', 'need', 'count', 'k', 'usdt', 'real', 'time', 'year', 'guardian', 'democratic', 'party', 'joined', 'exist', 'anymore', 'today', 'dem', 'party', 'complete', 'control', 'elitist', 'c', 'democratic', 'party', 'joined', 'exist', 'anymore', 'today', 'dem', 'party', 'complete', 'control', 'elitist', 'c', 'listen', 'listen', 'interview', 'edit', 'ums', 'ahs', 'typically', 'everyone', 'else', 'saw', 'make', 'week', 'tracking', 'leading', 'sn', 'need', 'increase', 'digitals', 'stream', 'spotify', 'apple', 'musi', 'one', 'thing', 'apple', 'watch', 'time', 'even', 'getting', 'ready', 'apple', 'genesis', 'realm', 'giving', 'away', 'wl', 'enter', 'follow', 'amp', 'amp', 'almost', 'lost', 'one', 'night', 'saw', 'someone', 'someone', 'democratic', 'party', 'joined', 'exist', 'anymore', 'today', 'dem', 'party', 'complete', 'control', 'elitist', 'c', 'beatles', 'let', 'japan', 'vinyl', 'lp', 'ap', 'apple', 'record', 'excellent', 'price', 'u', 'best', 'offer', 'raise', 'voice', 'unemployed', 'talking', 'malnourished', 'child', 'get', 'fair', 'price', 'apple', 'farmer', 'bts', 'amp', 'three', 'song', 'day', 'apple', 'global', 'music', 'chart', 'amp', 'let', 'grow', 'download', 'free', 'music', 'app', 'app', 'store', 'apple', 'thick', 'thin', 'everyone', 'need', 'count', 'miss', 'sign', 'usdt', 'earn', 'free', 'designed', 'alum', 'former', 'exec', 'project', 'watch', 'join', 'stream', 'spotify', 'apple', 'music', 'yt', 'digitals', 'would', 'fight', 'apple', 'music', 'listen', 'spotify', 'apple', 'podcast', 'apple', 'go', 'tsmc', 'getting', 'exemption', 'strict', 'u', 'tech', 'export', 'law', 'got', 'new', 'apple', 'watch', 'fall', 'golden', 'mo', 'must', 'apple', 'wait', 'love', 'year', 'old', 'claim', 'doms', 'like', 'sure', 'ya', 'sport', 'let', 'get', 'apple', 'juice', 'say', 'great', 'news', 'still', 'animal', 'jon', 'still', 'never', 'democratic', 'party', 'joined', 'exist', 'anymore', 'today', 'dem', 'party', 'complete', 'control', 'elitist', 'c', 'last', 'time', 'happened', 'dropped', 'year', 'treasury', 'yield', 'jump', 'back', 'cpi', 'top', 'great', 'apple', 'u', 'tsmc', 'getting', 'exemption', 'strict', 'u', 'tech', 'export', 'law', 'certain', 'stuff', 'tolerate', 'cause', 'apple', 'music', 'jon', 'time', 'every', 'trailer', 'go', 'remember', 'need', 'apple', 'music', 'spotify', 'stream', 'count', 'listen', 'dimash', 'music', 'spotify', 'apple', 'music', 'youtube', 'shit', 'talking', 'much', 'shit', 'dropped', 'show', 'ya', 'apple', 'unannounced', 'price', 'unannounced', 'beatles', 'let', 'japan', 'vinyl', 'lp', 'ap', 'apple', 'record', 'excellent', 'price', 'u', 'best', 'offer', 'believe', 'washington', 'commander', 'amp', 'listen', 'dimash', 'music', 'spotify', 'apple', 'music', 'youtube', 'tonight', 'launching', 'midnight', 'est', 'original', 'first', 'amp', 'original', 'drop', 'year', 'choose', 'flavor', 'b', 'democratic', 'party', 'joined', 'exist', 'anymore', 'today', 'dem', 'party', 'complete', 'control', 'elitist', 'c', 'spotify', 'apple', 'spotify', 'apple', 'trudeau', 'million', 'one', 'hired', 'former', 'executive', 'producer', 'worldwide', 'event', 'prior', 'creative', 'ops', 'social', 'security', 'benefit', 'rise', 'percent', 'confirm', 'io', 'communicate', 'apple', 'service', 'outside', 'active', 'vpn', 'tunnel', 'worse', 'leak', 'dns', 'request', 'bad', 'million', 'stream', 'apple', 'music', 'stream', 'democratic', 'party', 'joined', 'exist', 'anymore', 'today', 'dem', 'party', 'complete', 'control', 'elitist', 'c', 'best', 'emoji', 'apple', 'ever', 'made', 'tonight', 'launching', 'midnight', 'est', 'original', 'first', 'amp', 'original', 'drop', 'year', 'choose', 'flavor', 'b', 'amandawright', 'zvrapt', 'apple', 'zvrapt', 'iphone', 'android', 'ipad', 'radio', 'android', 'iphone', 'web', 'app', 'web', 'app', 'iphone', 'iphone', 'iphone', 'iphone', 'web', 'app', 'iphone', 'android', 'iphone', 'web', 'app', 'iphone', 'web', 'app', 'iphone', 'android', 'iphone', 'iphone', 'iphone', 'android', 'web', 'app', 'iphone', 'android', 'android', 'iphone', 'web', 'app', 'android', 'web', 'app', 'iphone', 'iphone', 'android', 'android', 'iphone', 'android', 'iphone', 'web', 'app', 'iphone', 'iphone', 'iphone', 'web', 'app', 'iphone', 'iphone', 'iphone', 'android', 'web', 'app', 'web', 'app', 'android', 'iphone', 'web', 'app', 'iphone', 'web', 'app', 'web', 'app', 'web', 'app', 'ifttt', 'android', 'web', 'app', 'iphone', 'web', 'app', 'android', 'web', 'app', 'ipad', 'iphone', 'web', 'app', 'iphone', 'android', 'web', 'app', 'web', 'app', 'iphone', 'android', 'iphone', 'iphone', 'android', 'ipad', 'iphone', 'android', 'iphone', 'ipad', 'iphone', 'web', 'app', 'android', 'iphone', 'iphone', 'iphone', 'iphone', 'cheap', 'bot', 'done', 'quick', 'iphone', 'android', 'dlvr', 'web', 'app', 'iphone', 'android', 'iphone', 'android', 'android', 'iphone', 'dlvr', 'iphone', 'android', 'iphone', 'iphone', 'web', 'app', 'android', 'iphone', 'iphone', 'iphone', 'android', 'iphone', 'iphone', 'iphone', 'android', 'android', 'web', 'app', 'iphone', 'iphone', 'iphone', 'android', 'iphone', 'web', 'app', 'iphone', 'iphone', 'iphone', 'iphone', 'iphone', 'iphone', 'rtitbot', 'android', 'android', 'iphone', 'web', 'app', 'rtitbot', 'coinscreener', 'ai', 'iphone', 'iphone', 'android', 'iphone', 'web', 'app', 'iphone', 'android', 'iphone', 'web', 'app', 'android', 'iphone', 'web', 'app', 'android', 'iphone', 'radio', 'web', 'app', 'android', 'web', 'app', 'android', 'web', 'app', 'android', 'web', 'app', 'web', 'app', 'calcaware', 'iphone', 'cheap', 'bot', 'done', 'quick', 'iphone', 'iphone', 'iphone', 'web', 'app', 'android', 'iphone', 'iphone', 'web', 'app', 'channel', 'iphone', 'web', 'app', 'iphone', 'android', 'android', 'android', 'iphone', 'ifttt', 'web', 'app', 'web', 'app', 'iphone', 'android', 'iphone', 'iphone', 'android', 'iphone', 'android', 'iphone', 'android', 'android', 'android', 'iphone', 'iphone', 'fickle', 'real', 'mile', 'amandawright', 'eth', 'apple', 'g', 'james', 'eth', 'apple', 'williams', 'golden', 'sevadalmys', 'mile', 'xiaosanqiangzo', 'apple', 'apple', 'brontyman', 'fickle', 'real', 'rtitbot', 'sevadalmys', 'rtitbot', 'coinscreener', 'ai', 'brontyman', 'apple', 'pie', 'geoff', 'mile', 'xiaosanqiangzo', 'apple', 'razak', 'calcaware', 'multi', 'streaming', 'apple', 'razak', 'joe', 'channel', 'apple', 'razak', 'nata', 'geoff', 'nata', 'chris']\n"
     ]
    }
   ],
   "source": [
    "## LEMMATIZE\n",
    "nltk.download('wordnet')\n",
    "nltk.download('omw-1.4')\n",
    "\n",
    "lemma = WordNetLemmatizer()\n",
    "\n",
    "filtered_temp = '\\n'.join([lemma.lemmatize(w) for w in filtered_temp])\n",
    "\n",
    "filtered_temp = filtered_temp.split()\n",
    "print(filtered_temp)"
   ]
  },
  {
   "cell_type": "code",
   "execution_count": 9,
   "metadata": {},
   "outputs": [
    {
     "name": "stdout",
     "output_type": "stream",
     "text": [
      "<class 'scipy.sparse.csr.csr_matrix'>\n",
      "vocabulary =  {'email': 79, 'want': 289, 'something': 246, 'must': 181, 'approach': 13, 'slowly': 241, 'calmly': 29, 'piece': 202, 'apple': 12, 'carrot': 30, 'key': 145, 'social': 244, 'security': 235, 'benefit': 19, 'rise': 228, 'percent': 197, 'washington': 290, 'chris': 40, 'amp': 6, 'back': 15, 'fall': 99, 'cider': 41, 'like': 155, 'report': 226, 'made': 165, 'trump': 277, 'podcast': 203, 'good': 117, 'morning': 176, 'miss': 173, 'time': 267, 'year': 304, 'day': 58, 'great': 120, 'williams': 296, 'new': 186, 'check': 37, 'discus': 65, 'earn': 75, 'app': 11, 'would': 301, 'pro': 209, 'joe': 138, 'mo': 175, 'thick': 263, 'thin': 264, 'everyone': 90, 'need': 183, 'count': 53, 'democratic': 60, 'party': 195, 'joined': 140, 'exist': 95, 'anymore': 9, 'today': 268, 'dem': 59, 'complete': 48, 'control': 51, 'elitist': 77, 'confirm': 50, 'io': 132, 'communicate': 47, 'service': 236, 'outside': 194, 'active': 0, 'vpn': 287, 'tunnel': 279, 'worse': 300, 'leak': 153, 'dns': 68, 'request': 227, 'song': 247, 'music': 180, 'say': 233, 'trudeau': 276, 'love': 162, 'old': 190, 'claim': 42, 'doms': 70, 'sure': 259, 'ya': 303, 'sport': 248, 'let': 154, 'get': 111, 'juice': 142, 'treasury': 275, 'yield': 306, 'jump': 143, 'cpi': 54, 'top': 271, 'expectation': 96, 'thing': 265, 'even': 86, 'phone': 199, 'free': 107, 'genesis': 109, 'realm': 222, 'giving': 113, 'away': 14, 'wl': 297, 'enter': 81, 'follow': 105, 'chart': 35, 'show': 239, 'mark': 169, 'every': 89, 'run': 230, 'almost': 3, 'class': 43, 'lost': 161, 'disney': 66, 'netflix': 184, 'youtube': 308, 'spotify': 249, 'go': 115, 'dan': 57, 'problem': 210, 'three': 266, 'really': 221, 'calendar': 28, 'make': 166, 'sign': 240, 'download': 72, 'kombucha': 146, 'mix': 174, 'little': 159, 'animal': 8, 'world': 298, 'designed': 62, 'alum': 4, 'former': 106, 'exec': 92, 'project': 213, 'watch': 291, 'join': 139, 'guardian': 123, 'ryan': 231, 'first': 103, 'trailer': 274, 'raise': 216, 'voice': 286, 'unemployed': 283, 'talking': 261, 'malnourished': 167, 'child': 38, 'fair': 98, 'price': 207, 'farmer': 100, 'st': 250, 'point': 204, 'james': 136, 'reid': 224, 'lovescene': 163, 'remember': 225, 'guy': 124, 'track': 272, 'itunes': 135, 'philippine': 198, 'believe': 18, 'government': 119, 'people': 196, 'premier': 206, 'league': 152, 'got': 118, 'tech': 262, 'idea': 128, 'still': 253, 'news': 187, 'blue': 22, 'ready': 219, 'iphone': 134, 'link': 157, 'store': 254, 'condition': 49, 'pie': 201, 'butter': 26, 'hired': 127, 'executive': 93, 'producer': 211, 'worldwide': 299, 'event': 87, 'prior': 208, 'creative': 55, 'ops': 192, 'certain': 32, 'stuff': 258, 'tolerate': 269, 'cause': 31, 'listen': 158, 'latest': 148, 'episode': 82, 'real': 220, 'pop': 205, 'yet': 305, 'come': 45, 'bts': 25, 'change': 33, 'week': 293, 'high': 126, 'stable': 251, 'rank': 217, 'widen': 295, 'gap': 108, 'yt': 309, 'currently': 56, 'best': 20, 'emoji': 80, 'ever': 88, 'keep': 144, 'streaming': 256, 'live': 160, 'global': 114, 'one': 191, 'tracking': 273, 'leading': 151, 'sn': 242, 'increase': 130, 'digitals': 63, 'stream': 255, 'musi': 179, 'grow': 122, 'pick': 200, 'etc': 84, 'gross': 121, 'profit': 212, 'billion': 21, 'multi': 178, 'dollar': 69, 'corporation': 52, 'wi': 294, 'start': 252, 'happened': 125, 'school': 234, 'bad': 16, 'never': 185, 'talk': 260, 'many': 168, 'snyder': 243, 'fight': 102, 'commander': 46, 'getting': 112, 'yo': 307, 'much': 177, 'design': 61, 'interview': 131, 'edit': 76, 'ums': 281, 'ahs': 1, 'typically': 280, 'else': 78, 'million': 172, 'wait': 288, 'line': 156, 'night': 188, 'last': 147, 'usdt': 284, 'saw': 232, 'someone': 245, 'beatles': 17, 'japan': 137, 'vinyl': 285, 'lp': 164, 'ap': 10, 'record': 223, 'excellent': 91, 'offer': 189, 'tsmc': 278, 'exemption': 94, 'strict': 257, 'export': 97, 'law': 150, 'golden': 116, 'jon': 141, 'dropped': 74, 'dimash': 64, 'shit': 238, 'unannounced': 282, 'tonight': 270, 'launching': 149, 'midnight': 170, 'est': 83, 'original': 193, 'drop': 73, 'choose': 39, 'flavor': 104, 'amandawright': 5, 'zvrapt': 310, 'android': 7, 'ipad': 133, 'radio': 215, 'web': 292, 'ifttt': 129, 'cheap': 36, 'bot': 23, 'done': 71, 'quick': 214, 'dlvr': 67, 'rtitbot': 229, 'coinscreener': 44, 'ai': 2, 'calcaware': 27, 'channel': 34, 'fickle': 101, 'mile': 171, 'eth': 85, 'sevadalmys': 237, 'xiaosanqiangzo': 302, 'brontyman': 24, 'geoff': 110, 'razak': 218, 'nata': 182}\n"
     ]
    }
   ],
   "source": [
    "## COUNT VECTORIZER\n",
    "\n",
    "# Initialize count vectorizer\n",
    "vectorizer=CountVectorizer()   \n",
    "\n",
    "# Run count vectorizer\n",
    "Xs  =  vectorizer.fit_transform(filtered_temp)   \n",
    "print(type(Xs))\n",
    "\n",
    "## EXPLORE THE OBJECT ATTRIBUTES \n",
    "\n",
    "# # View vocabulary dictionary\n",
    "print(\"vocabulary = \",vectorizer.vocabulary_)\n",
    "\n",
    "# col_names\n",
    "col_names=vectorizer.get_feature_names_out()"
   ]
  },
  {
   "cell_type": "code",
   "execution_count": 10,
   "metadata": {},
   "outputs": [],
   "source": [
    "## SAVE\n",
    "full_path = os.path.realpath(\"cleaning_apple_py.ipynb\")\n",
    "path, filename = os.path.split(full_path)\n",
    "os.chdir(path)\n",
    "os.chdir('../data')\n",
    "rows = zip(filtered_temp) # turn columns into rows\n",
    "with open('cleaned_apple_tweets.csv', 'w') as f:\n",
    "    writer = csv.writer(f)\n",
    "    for row in rows:\n",
    "        writer.writerow(row)\n",
    "    f.write(','.join(filtered_temp))"
   ]
  }
 ],
 "metadata": {
  "kernelspec": {
   "display_name": "Python 3.10.4 ('class')",
   "language": "python",
   "name": "python3"
  },
  "language_info": {
   "codemirror_mode": {
    "name": "ipython",
    "version": 3
   },
   "file_extension": ".py",
   "mimetype": "text/x-python",
   "name": "python",
   "nbconvert_exporter": "python",
   "pygments_lexer": "ipython3",
   "version": "3.10.4"
  },
  "orig_nbformat": 4,
  "vscode": {
   "interpreter": {
    "hash": "15746aa1dcf7a2a78475ba9215d3f8835d2f92e9634eaaa8b18bbade37f57527"
   }
  }
 },
 "nbformat": 4,
 "nbformat_minor": 2
}
