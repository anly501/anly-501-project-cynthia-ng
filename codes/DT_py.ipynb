{
 "cells": [
  {
   "cell_type": "markdown",
   "id": "d6ef5cab",
   "metadata": {},
   "source": [
    "## Decision Trees Record Data - Python"
   ]
  },
  {
   "cell_type": "markdown",
   "id": "04160e77",
   "metadata": {},
   "source": [
    "## Set up data"
   ]
  },
  {
   "cell_type": "code",
   "execution_count": null,
   "id": "26e51404",
   "metadata": {},
   "outputs": [],
   "source": [
    "# Load essential libraries\n",
    "import pandas as pd\n",
    "import numpy as np\n",
    "import seaborn as sns \n",
    "import matplotlib.pyplot as plt\n",
    "\n",
    "# Read csv file\n",
    "df = pd.read_csv('../data/cleaned_wf_demo.csv', index_col=0)\n",
    "print(df.head())"
   ]
  },
  {
   "cell_type": "markdown",
   "id": "1d71e370",
   "metadata": {},
   "source": [
    "## Clean data for Decision Trees"
   ]
  },
  {
   "cell_type": "code",
   "execution_count": null,
   "id": "209cd624",
   "metadata": {},
   "outputs": [],
   "source": [
    "# Convert categorical variables to dummy variables using pd.get_dummies\n",
    "\n",
    "# Dummies for job_category\n",
    "dummies = pd.get_dummies(df['job_category']).rename(columns=lambda x: 'job_category_' + str(x))\n",
    "df = pd.concat([df, dummies], axis=1) #add back into the dataframe\n",
    "df.drop(['job_category'], inplace=True, axis = 1) #remove job_category column\n",
    "\n",
    "# Repeat for gender\n",
    "dummies = pd.get_dummies(df['gender']).rename(columns=lambda x: 'gender_' + str(x))\n",
    "df = pd.concat([df, dummies], axis=1) #add back into the dataframe\n",
    "df.drop(['gender'], inplace=True, axis = 1) #remove gender column\n",
    "\n",
    "# Repeat for ethnicity\n",
    "dummies = pd.get_dummies(df['ethnicity']).rename(columns=lambda x: 'ethnicity_' + str(x))\n",
    "df = pd.concat([df, dummies], axis=1) #add back into the dataframe\n",
    "df.drop(['ethnicity'], inplace=True, axis = 1) #remove ethnicity column\n",
    "\n",
    "# Repeat for company\n",
    "dummies = pd.get_dummies(df['company']).rename(columns=lambda x: 'company_' + str(x))\n",
    "df = pd.concat([df, dummies], axis=1) #add back into the dataframe\n",
    "\n",
    "# Confirm new column names and that there are no NAs\n",
    "print(df.columns)\n",
    "print(df.isnull().sum())"
   ]
  },
  {
   "cell_type": "markdown",
   "id": "8a4124b9",
   "metadata": {},
   "source": [
    "## Class distribution"
   ]
  },
  {
   "cell_type": "code",
   "execution_count": null,
   "id": "d11f968b",
   "metadata": {},
   "outputs": [],
   "source": [
    "## Examine class distribution\n",
    "sns.set(font_scale=1.2)\n",
    "\n",
    "# Visualize class distribution\n",
    "fig, ax = plt.subplots(figsize=(10,5))\n",
    "df['company'].hist()\n",
    "ax.set_title(\"Distribution of Company Labels in Dataset\")\n",
    "ax.set_xlabel(\"Company\")\n",
    "ax.set_ylabel(\"# of Company Labels\")\n",
    "\n",
    "# save picture\n",
    "fig1 = ax.get_figure()\n",
    "fig1.savefig(\"../501-project-website/images/company_labels_distribution.png\")"
   ]
  },
  {
   "cell_type": "markdown",
   "id": "1092142d",
   "metadata": {},
   "source": [
    "## Baseline model"
   ]
  },
  {
   "cell_type": "code",
   "execution_count": null,
   "id": "c767a5df",
   "metadata": {},
   "outputs": [],
   "source": [
    "## Baseline model\n",
    "import random\n",
    "from collections import Counter\n",
    "from sklearn.metrics import accuracy_score\n",
    "from sklearn.metrics import precision_recall_fscore_support\n",
    "\n",
    "def generate_label_data(class_labels, weights,N=10000):\n",
    "    y=random.choices(class_labels, weights = weights, k = N)\n",
    "    print(\"-----GENERATING DATA-----\")\n",
    "    print(\"unique entries:\",Counter(y).keys())  \n",
    "    print(\"count of labels:\",Counter(y).values()) # counts the elements' frequency\n",
    "    print(\"probability of labels:\",np.fromiter(Counter(y).values(), dtype=float)/len(y)) # counts the elements' frequency\n",
    "    return y\n",
    "\n",
    "## Generate random classifier\n",
    "def random_classifier(y_data):\n",
    "    ypred=[];\n",
    "    max_label=np.max(y_data); #print(max_label)\n",
    "    for i in range(0,len(y_data)):\n",
    "        ypred.append(int(np.floor((max_label+1)*np.random.uniform(0,1))))\n",
    "\n",
    "    print(\"-----RANDOM CLASSIFIER-----\")\n",
    "    print(\"count of prediction:\",Counter(ypred).values()) # counts the elements' frequency\n",
    "    print(\"probability of prediction:\",np.fromiter(Counter(ypred).values(), dtype=float)/len(y_data)) # counts the elements' frequency\n",
    "    print(\"accuracy\",accuracy_score(y_data, ypred))\n",
    "    print(\"percision, recall, fscore,\",precision_recall_fscore_support(y_data, ypred))\n",
    "\n",
    "# Random classifier\n",
    "print(\"\\MULTI-CLASS: UNIFORM LOAD\")\n",
    "y=generate_label_data([0,1,2,3,4],[0.2,0.2,0.2,0.2,0.2],10000)\n",
    "random_classifier(y)"
   ]
  },
  {
   "cell_type": "markdown",
   "id": "f8561f8b",
   "metadata": {},
   "source": [
    "## Feature selection"
   ]
  },
  {
   "cell_type": "code",
   "execution_count": null,
   "id": "d7521e61",
   "metadata": {},
   "outputs": [],
   "source": [
    "# Identify feature and target columns \n",
    "target_cols = [i for i in df.columns if 'company' in i]\n",
    "feature_cols = df.columns[1:]\n",
    "\n",
    "# Display heat-map for the correlation matrix\n",
    "corr = df[feature_cols].corr(); \n",
    "print(corr.shape)\n",
    "sns.set_theme(style=\"white\")\n",
    "f, ax = plt.subplots(figsize=(20, 20))  # Set up the matplotlib figure\n",
    "cmap = sns.diverging_palette(230, 20, as_cmap=True) # Generate a custom diverging colormap\n",
    "# Draw the heatmap with the mask and correct aspect ratio\n",
    "sns.heatmap(corr,  cmap=cmap, vmin=-1, vmax=1, center=0,\n",
    "        square=True, linewidths=.5, cbar_kws={\"shrink\": .5})\n",
    "# cbar_kws --> removing the shrink will space them out better\n",
    "\n",
    "plt.xticks(rotation=45)\n",
    "\n",
    "plt.show()"
   ]
  },
  {
   "cell_type": "markdown",
   "id": "f4fec222",
   "metadata": {},
   "source": [
    "## Prepare data for Decision Trees model"
   ]
  },
  {
   "cell_type": "code",
   "execution_count": null,
   "id": "88026456",
   "metadata": {},
   "outputs": [],
   "source": [
    "## SET X AND Y\n",
    "\n",
    "# y: convert df['company'] string labels to dummy integers\n",
    "labels=[]; \n",
    "y=[]\n",
    "\n",
    "for label in df[\"company\"]:\n",
    "    if label not in labels:\n",
    "        labels.append(label)\n",
    "        print(\"index =\",len(labels)-1,\": label =\",label)\n",
    "    for i in range(0,len(labels)):\n",
    "        if(label==labels[i]):\n",
    "            y.append(i)\n",
    "y = np.array(y)\n",
    "\n",
    "# X\n",
    "X = df.drop(['company', 'company_Accenture', 'company_Apple', 'company_Bristol Myers Squibb', 'company_Goldman Sachs', 'company_Home Depot'], axis = 1)\n",
    "\n",
    "\n",
    "# Double check\n",
    "print(X.shape,y.shape)"
   ]
  },
  {
   "cell_type": "code",
   "execution_count": null,
   "id": "5051af2e",
   "metadata": {},
   "outputs": [],
   "source": [
    "# Load sklearn libraries\n",
    "from sklearn.model_selection import train_test_split\n",
    "from sklearn.metrics import accuracy_score\n",
    "\n",
    "# Partion data\n",
    "X_train, X_test, y_train, y_test = train_test_split(X, y, test_size = 0.2, random_state=4)\n",
    "\n",
    "# Check \n",
    "print(X_train.shape)\n",
    "print(y_train.shape)\n",
    "print(X_test.shape)\n",
    "print(y_test.shape)"
   ]
  },
  {
   "cell_type": "markdown",
   "id": "0b8c1fc7",
   "metadata": {},
   "source": [
    "## Support Vector Classifier"
   ]
  },
  {
   "cell_type": "code",
   "execution_count": null,
   "id": "d914ee48",
   "metadata": {},
   "outputs": [],
   "source": [
    "# Initialize model\n",
    "\n",
    "# Import DecisionTreeClassifier\n",
    "from sklearn.tree import DecisionTreeClassifier\n",
    "\n",
    "# Fit model\n",
    "model = DecisionTreeClassifier(random_state=0)\n",
    "\n",
    "model"
   ]
  },
  {
   "cell_type": "code",
   "execution_count": null,
   "id": "9a022949",
   "metadata": {},
   "outputs": [],
   "source": [
    "# Import sklearn\n",
    "from sklearn.utils.fixes import sklearn\n",
    "\n",
    "# Fit model to training data\n",
    "model.fit(X_train, y_train) \n",
    "\n",
    "# Predict on X_train\n",
    "y_train_pred = model.predict(X_train)"
   ]
  },
  {
   "cell_type": "markdown",
   "id": "d1fc8712",
   "metadata": {},
   "source": [
    "## Results"
   ]
  },
  {
   "cell_type": "code",
   "execution_count": null,
   "id": "5f18630a",
   "metadata": {},
   "outputs": [],
   "source": [
    "# TEST ACCURACY\n",
    "\n",
    "# Training set\n",
    "print(\"Training set\")\n",
    "print(\"Accuracy: \", accuracy_score(y_train, y_train_pred) * 100) #accuracy score\n",
    "print(\"Number of mislabeled points: \", (y_train != y_train_pred).sum()) #mislabeled points\n",
    "\n",
    "# Test set\n",
    "y_test_pred = model.predict(X_test)\n",
    "print(\"Test set\")\n",
    "print(\"Accuracy: \", accuracy_score(y_test, y_test_pred)*100) #accuracy score\n",
    "print(\"Number of mislabeled points: \", (y_test != y_test_pred).sum()) #mislabeled points\n",
    "\n",
    "# Plot\n",
    "model_accuracies = pd.DataFrame({'Set':['Training set','Test set'], 'Accuracy (%)': [accuracy_score(y_train, y_train_pred) * 100, accuracy_score(y_test, y_test_pred)*100]})\n",
    "sns.barplot(data=model_accuracies, x=\"Set\", y=\"Accuracy (%)\").set(title = 'Accuracy of model for training vs test sets' )\n",
    "plt.savefig(\"../501-project-website/images/DT_record_accuracy.png\")"
   ]
  },
  {
   "cell_type": "code",
   "execution_count": null,
   "id": "01388240",
   "metadata": {},
   "outputs": [],
   "source": [
    "# DECISION TREE\n",
    "\n",
    "# Import decision tree libraries\n",
    "from dtreeviz.trees import tree\n",
    "import graphviz\n",
    "\n",
    "# Plot decision tree\n",
    "def plot_tree(model, X, Y):\n",
    "    fig = plt.figure(figsize=(30, 25), dpi=150)\n",
    "    _ = tree.plot_tree(model,\n",
    "                      feature_names = feature_cols,\n",
    "                       class_names = target_cols,\n",
    "                       filled = True,\n",
    "                      fontsize=11)\n",
    "    fig.savefig('../501-project-website/images/DT_graph.png')\n",
    "    \n",
    "plot_tree(model, X, y)"
   ]
  },
  {
   "cell_type": "code",
   "execution_count": null,
   "id": "1102117c",
   "metadata": {},
   "outputs": [],
   "source": [
    "# CONFUSION MATRIX\n",
    "\n",
    "# Import confusion matrix library\n",
    "from sklearn.metrics import plot_confusion_matrix\n",
    "\n",
    "# Create confusion matrix\n",
    "plot_confusion_matrix(model, X_test , y_test , cmap=\"Blues\")\n",
    "\n",
    "# Plot confusion matrix\n",
    "plt.title(\"Confusion matrix for Decision Tree model\")\n",
    "plt.savefig(\"../501-project-website/images/DT_record_confusion_matrix.png\")"
   ]
  }
 ],
 "metadata": {
  "kernelspec": {
   "display_name": "Python 3.9.13 ('base')",
   "language": "python",
   "name": "python3"
  },
  "language_info": {
   "codemirror_mode": {
    "name": "ipython",
    "version": 3
   },
   "file_extension": ".py",
   "mimetype": "text/x-python",
   "name": "python",
   "nbconvert_exporter": "python",
   "pygments_lexer": "ipython3",
   "version": "3.9.13"
  },
  "vscode": {
   "interpreter": {
    "hash": "ea5906874ef9642e999774b3514b6e4220b5ac4fc1e2c91db5a9202082793889"
   }
  }
 },
 "nbformat": 4,
 "nbformat_minor": 5
}
